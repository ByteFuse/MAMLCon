{
 "cells": [
  {
   "cell_type": "code",
   "execution_count": 1,
   "metadata": {},
   "outputs": [],
   "source": [
    "import pandas as pd\n",
    "import seaborn as sns\n",
    "import matplotlib.pyplot as plt\n",
    "import plotly_express as px"
   ]
  },
  {
   "cell_type": "code",
   "execution_count": 2,
   "metadata": {},
   "outputs": [
    {
     "ename": "FileNotFoundError",
     "evalue": "[Errno 2] No such file or directory: '../data/training_results.csv'",
     "output_type": "error",
     "traceback": [
      "\u001b[1;31m---------------------------------------------------------------------------\u001b[0m",
      "\u001b[1;31mFileNotFoundError\u001b[0m                         Traceback (most recent call last)",
      "Cell \u001b[1;32mIn [2], line 1\u001b[0m\n\u001b[1;32m----> 1\u001b[0m df \u001b[39m=\u001b[39m pd\u001b[39m.\u001b[39;49mread_csv(\u001b[39m'\u001b[39;49m\u001b[39m../data/training_results.csv\u001b[39;49m\u001b[39m'\u001b[39;49m)\n",
      "File \u001b[1;32mc:\\Users\\ruanv\\miniconda3\\envs\\flickr2\\lib\\site-packages\\pandas\\util\\_decorators.py:311\u001b[0m, in \u001b[0;36mdeprecate_nonkeyword_arguments.<locals>.decorate.<locals>.wrapper\u001b[1;34m(*args, **kwargs)\u001b[0m\n\u001b[0;32m    305\u001b[0m \u001b[39mif\u001b[39;00m \u001b[39mlen\u001b[39m(args) \u001b[39m>\u001b[39m num_allow_args:\n\u001b[0;32m    306\u001b[0m     warnings\u001b[39m.\u001b[39mwarn(\n\u001b[0;32m    307\u001b[0m         msg\u001b[39m.\u001b[39mformat(arguments\u001b[39m=\u001b[39marguments),\n\u001b[0;32m    308\u001b[0m         \u001b[39mFutureWarning\u001b[39;00m,\n\u001b[0;32m    309\u001b[0m         stacklevel\u001b[39m=\u001b[39mstacklevel,\n\u001b[0;32m    310\u001b[0m     )\n\u001b[1;32m--> 311\u001b[0m \u001b[39mreturn\u001b[39;00m func(\u001b[39m*\u001b[39margs, \u001b[39m*\u001b[39m\u001b[39m*\u001b[39mkwargs)\n",
      "File \u001b[1;32mc:\\Users\\ruanv\\miniconda3\\envs\\flickr2\\lib\\site-packages\\pandas\\io\\parsers\\readers.py:680\u001b[0m, in \u001b[0;36mread_csv\u001b[1;34m(filepath_or_buffer, sep, delimiter, header, names, index_col, usecols, squeeze, prefix, mangle_dupe_cols, dtype, engine, converters, true_values, false_values, skipinitialspace, skiprows, skipfooter, nrows, na_values, keep_default_na, na_filter, verbose, skip_blank_lines, parse_dates, infer_datetime_format, keep_date_col, date_parser, dayfirst, cache_dates, iterator, chunksize, compression, thousands, decimal, lineterminator, quotechar, quoting, doublequote, escapechar, comment, encoding, encoding_errors, dialect, error_bad_lines, warn_bad_lines, on_bad_lines, delim_whitespace, low_memory, memory_map, float_precision, storage_options)\u001b[0m\n\u001b[0;32m    665\u001b[0m kwds_defaults \u001b[39m=\u001b[39m _refine_defaults_read(\n\u001b[0;32m    666\u001b[0m     dialect,\n\u001b[0;32m    667\u001b[0m     delimiter,\n\u001b[1;32m   (...)\u001b[0m\n\u001b[0;32m    676\u001b[0m     defaults\u001b[39m=\u001b[39m{\u001b[39m\"\u001b[39m\u001b[39mdelimiter\u001b[39m\u001b[39m\"\u001b[39m: \u001b[39m\"\u001b[39m\u001b[39m,\u001b[39m\u001b[39m\"\u001b[39m},\n\u001b[0;32m    677\u001b[0m )\n\u001b[0;32m    678\u001b[0m kwds\u001b[39m.\u001b[39mupdate(kwds_defaults)\n\u001b[1;32m--> 680\u001b[0m \u001b[39mreturn\u001b[39;00m _read(filepath_or_buffer, kwds)\n",
      "File \u001b[1;32mc:\\Users\\ruanv\\miniconda3\\envs\\flickr2\\lib\\site-packages\\pandas\\io\\parsers\\readers.py:575\u001b[0m, in \u001b[0;36m_read\u001b[1;34m(filepath_or_buffer, kwds)\u001b[0m\n\u001b[0;32m    572\u001b[0m _validate_names(kwds\u001b[39m.\u001b[39mget(\u001b[39m\"\u001b[39m\u001b[39mnames\u001b[39m\u001b[39m\"\u001b[39m, \u001b[39mNone\u001b[39;00m))\n\u001b[0;32m    574\u001b[0m \u001b[39m# Create the parser.\u001b[39;00m\n\u001b[1;32m--> 575\u001b[0m parser \u001b[39m=\u001b[39m TextFileReader(filepath_or_buffer, \u001b[39m*\u001b[39m\u001b[39m*\u001b[39mkwds)\n\u001b[0;32m    577\u001b[0m \u001b[39mif\u001b[39;00m chunksize \u001b[39mor\u001b[39;00m iterator:\n\u001b[0;32m    578\u001b[0m     \u001b[39mreturn\u001b[39;00m parser\n",
      "File \u001b[1;32mc:\\Users\\ruanv\\miniconda3\\envs\\flickr2\\lib\\site-packages\\pandas\\io\\parsers\\readers.py:933\u001b[0m, in \u001b[0;36mTextFileReader.__init__\u001b[1;34m(self, f, engine, **kwds)\u001b[0m\n\u001b[0;32m    930\u001b[0m     \u001b[39mself\u001b[39m\u001b[39m.\u001b[39moptions[\u001b[39m\"\u001b[39m\u001b[39mhas_index_names\u001b[39m\u001b[39m\"\u001b[39m] \u001b[39m=\u001b[39m kwds[\u001b[39m\"\u001b[39m\u001b[39mhas_index_names\u001b[39m\u001b[39m\"\u001b[39m]\n\u001b[0;32m    932\u001b[0m \u001b[39mself\u001b[39m\u001b[39m.\u001b[39mhandles: IOHandles \u001b[39m|\u001b[39m \u001b[39mNone\u001b[39;00m \u001b[39m=\u001b[39m \u001b[39mNone\u001b[39;00m\n\u001b[1;32m--> 933\u001b[0m \u001b[39mself\u001b[39m\u001b[39m.\u001b[39m_engine \u001b[39m=\u001b[39m \u001b[39mself\u001b[39;49m\u001b[39m.\u001b[39;49m_make_engine(f, \u001b[39mself\u001b[39;49m\u001b[39m.\u001b[39;49mengine)\n",
      "File \u001b[1;32mc:\\Users\\ruanv\\miniconda3\\envs\\flickr2\\lib\\site-packages\\pandas\\io\\parsers\\readers.py:1217\u001b[0m, in \u001b[0;36mTextFileReader._make_engine\u001b[1;34m(self, f, engine)\u001b[0m\n\u001b[0;32m   1213\u001b[0m     mode \u001b[39m=\u001b[39m \u001b[39m\"\u001b[39m\u001b[39mrb\u001b[39m\u001b[39m\"\u001b[39m\n\u001b[0;32m   1214\u001b[0m \u001b[39m# error: No overload variant of \"get_handle\" matches argument types\u001b[39;00m\n\u001b[0;32m   1215\u001b[0m \u001b[39m# \"Union[str, PathLike[str], ReadCsvBuffer[bytes], ReadCsvBuffer[str]]\"\u001b[39;00m\n\u001b[0;32m   1216\u001b[0m \u001b[39m# , \"str\", \"bool\", \"Any\", \"Any\", \"Any\", \"Any\", \"Any\"\u001b[39;00m\n\u001b[1;32m-> 1217\u001b[0m \u001b[39mself\u001b[39m\u001b[39m.\u001b[39mhandles \u001b[39m=\u001b[39m get_handle(  \u001b[39m# type: ignore[call-overload]\u001b[39;49;00m\n\u001b[0;32m   1218\u001b[0m     f,\n\u001b[0;32m   1219\u001b[0m     mode,\n\u001b[0;32m   1220\u001b[0m     encoding\u001b[39m=\u001b[39;49m\u001b[39mself\u001b[39;49m\u001b[39m.\u001b[39;49moptions\u001b[39m.\u001b[39;49mget(\u001b[39m\"\u001b[39;49m\u001b[39mencoding\u001b[39;49m\u001b[39m\"\u001b[39;49m, \u001b[39mNone\u001b[39;49;00m),\n\u001b[0;32m   1221\u001b[0m     compression\u001b[39m=\u001b[39;49m\u001b[39mself\u001b[39;49m\u001b[39m.\u001b[39;49moptions\u001b[39m.\u001b[39;49mget(\u001b[39m\"\u001b[39;49m\u001b[39mcompression\u001b[39;49m\u001b[39m\"\u001b[39;49m, \u001b[39mNone\u001b[39;49;00m),\n\u001b[0;32m   1222\u001b[0m     memory_map\u001b[39m=\u001b[39;49m\u001b[39mself\u001b[39;49m\u001b[39m.\u001b[39;49moptions\u001b[39m.\u001b[39;49mget(\u001b[39m\"\u001b[39;49m\u001b[39mmemory_map\u001b[39;49m\u001b[39m\"\u001b[39;49m, \u001b[39mFalse\u001b[39;49;00m),\n\u001b[0;32m   1223\u001b[0m     is_text\u001b[39m=\u001b[39;49mis_text,\n\u001b[0;32m   1224\u001b[0m     errors\u001b[39m=\u001b[39;49m\u001b[39mself\u001b[39;49m\u001b[39m.\u001b[39;49moptions\u001b[39m.\u001b[39;49mget(\u001b[39m\"\u001b[39;49m\u001b[39mencoding_errors\u001b[39;49m\u001b[39m\"\u001b[39;49m, \u001b[39m\"\u001b[39;49m\u001b[39mstrict\u001b[39;49m\u001b[39m\"\u001b[39;49m),\n\u001b[0;32m   1225\u001b[0m     storage_options\u001b[39m=\u001b[39;49m\u001b[39mself\u001b[39;49m\u001b[39m.\u001b[39;49moptions\u001b[39m.\u001b[39;49mget(\u001b[39m\"\u001b[39;49m\u001b[39mstorage_options\u001b[39;49m\u001b[39m\"\u001b[39;49m, \u001b[39mNone\u001b[39;49;00m),\n\u001b[0;32m   1226\u001b[0m )\n\u001b[0;32m   1227\u001b[0m \u001b[39massert\u001b[39;00m \u001b[39mself\u001b[39m\u001b[39m.\u001b[39mhandles \u001b[39mis\u001b[39;00m \u001b[39mnot\u001b[39;00m \u001b[39mNone\u001b[39;00m\n\u001b[0;32m   1228\u001b[0m f \u001b[39m=\u001b[39m \u001b[39mself\u001b[39m\u001b[39m.\u001b[39mhandles\u001b[39m.\u001b[39mhandle\n",
      "File \u001b[1;32mc:\\Users\\ruanv\\miniconda3\\envs\\flickr2\\lib\\site-packages\\pandas\\io\\common.py:789\u001b[0m, in \u001b[0;36mget_handle\u001b[1;34m(path_or_buf, mode, encoding, compression, memory_map, is_text, errors, storage_options)\u001b[0m\n\u001b[0;32m    784\u001b[0m \u001b[39melif\u001b[39;00m \u001b[39misinstance\u001b[39m(handle, \u001b[39mstr\u001b[39m):\n\u001b[0;32m    785\u001b[0m     \u001b[39m# Check whether the filename is to be opened in binary mode.\u001b[39;00m\n\u001b[0;32m    786\u001b[0m     \u001b[39m# Binary mode does not support 'encoding' and 'newline'.\u001b[39;00m\n\u001b[0;32m    787\u001b[0m     \u001b[39mif\u001b[39;00m ioargs\u001b[39m.\u001b[39mencoding \u001b[39mand\u001b[39;00m \u001b[39m\"\u001b[39m\u001b[39mb\u001b[39m\u001b[39m\"\u001b[39m \u001b[39mnot\u001b[39;00m \u001b[39min\u001b[39;00m ioargs\u001b[39m.\u001b[39mmode:\n\u001b[0;32m    788\u001b[0m         \u001b[39m# Encoding\u001b[39;00m\n\u001b[1;32m--> 789\u001b[0m         handle \u001b[39m=\u001b[39m \u001b[39mopen\u001b[39;49m(\n\u001b[0;32m    790\u001b[0m             handle,\n\u001b[0;32m    791\u001b[0m             ioargs\u001b[39m.\u001b[39;49mmode,\n\u001b[0;32m    792\u001b[0m             encoding\u001b[39m=\u001b[39;49mioargs\u001b[39m.\u001b[39;49mencoding,\n\u001b[0;32m    793\u001b[0m             errors\u001b[39m=\u001b[39;49merrors,\n\u001b[0;32m    794\u001b[0m             newline\u001b[39m=\u001b[39;49m\u001b[39m\"\u001b[39;49m\u001b[39m\"\u001b[39;49m,\n\u001b[0;32m    795\u001b[0m         )\n\u001b[0;32m    796\u001b[0m     \u001b[39melse\u001b[39;00m:\n\u001b[0;32m    797\u001b[0m         \u001b[39m# Binary mode\u001b[39;00m\n\u001b[0;32m    798\u001b[0m         handle \u001b[39m=\u001b[39m \u001b[39mopen\u001b[39m(handle, ioargs\u001b[39m.\u001b[39mmode)\n",
      "\u001b[1;31mFileNotFoundError\u001b[0m: [Errno 2] No such file or directory: '../data/training_results.csv'"
     ]
    }
   ],
   "source": [
    "df = pd.read_csv('../data/training_results.csv')"
   ]
  },
  {
   "cell_type": "code",
   "execution_count": null,
   "metadata": {},
   "outputs": [],
   "source": [
    "df[(df.n_way==10 )& (df.dataset=='flickr8k')] "
   ]
  },
  {
   "cell_type": "code",
   "execution_count": null,
   "metadata": {},
   "outputs": [],
   "source": [
    "plot_df_1 = df[(df.n_way==50)&(df.n_class_additions==5)&(df.n_classes_start==5)&(df.algorithm=='FSCL')&(df.dataset=='flickr8k')].\\\n",
    "    drop(columns=['Name']).groupby(['k_shot']).max().reset_index(drop=False)\n",
    "plot_df_2 = df[(df.n_way==10)&(df.n_class_additions==1)&(df.n_classes_start==2)&(df.algorithm=='FSCL')&(df.dataset=='google_commands')].\\\n",
    "    drop(columns=['Name']).groupby(['k_shot']).max().reset_index(drop=False)\n",
    "plot_df = pd.concat([plot_df_1, plot_df_2])\n",
    "\n",
    "def rename_(name):\n",
    "    if name == 'flickr8k':\n",
    "        return 'Flickr8k: N=50, CA=5, CS=5'\n",
    "    else:\n",
    "        return \"Google Commands: N=10, CA=2, CS=2\"\n",
    "\n",
    "plot_df['dataset']=plot_df['dataset'].apply(rename_)\n",
    "plot_df.rename(columns={'k_shot':'K-Shot', 'validation_query_accuracy_epoch':'Final Accuracy', 'dataset':'Dataset'}, inplace=True)\n",
    "\n",
    "plt.figure(figsize=(20, 10))\n",
    "# set colours allowed to use to certain hex value\n",
    "sns.set_palette(sns.color_palette([\"#1D2140\", \"#17C37B\"])) \n",
    "sns.barplot(x='K-Shot', y='Final Accuracy', hue='Dataset', data=plot_df)\n",
    "#add the value on top of the bar\n",
    "for p in plt.gca().patches:\n",
    "    plt.gca().text(p.get_x() + p.get_width()/2., p.get_height(), '{:1.2f}'.format(p.get_height()*100), fontsize=18, color='black', ha='center', va='bottom')\n",
    "\n",
    "# make the legend text bigger\n",
    "plt.legend(loc='lower right', prop={'size': 20})\n",
    "# make plot font size bigger\n",
    "plt.rcParams.update({'font.size': 22})\n",
    "\n",
    "# remove top grid line\n",
    "plt.gca().spines['top'].set_visible(False)\n",
    "plt.gca().spines['right'].set_visible(False)\n",
    "\n",
    "plt.savefig('k_shot_accuracy.png', transparent=True, pad_inches=.2, frameon=False)\n",
    "plt.show()"
   ]
  },
  {
   "attachments": {},
   "cell_type": "markdown",
   "metadata": {},
   "source": [
    "# Generate CL insights"
   ]
  },
  {
   "cell_type": "code",
   "execution_count": 3,
   "metadata": {},
   "outputs": [
    {
     "name": "stderr",
     "output_type": "stream",
     "text": [
      "c:\\Users\\ruanv\\miniconda3\\envs\\flickr2\\lib\\site-packages\\torchvision\\io\\image.py:11: UserWarning: Failed to load image Python extension: Could not find module 'C:\\Users\\ruanv\\miniconda3\\envs\\flickr2\\Lib\\site-packages\\torchvision\\image.pyd' (or one of its dependencies). Try using the full path with constructor syntax.\n",
      "  warn(f\"Failed to load image Python extension: {e}\")\n"
     ]
    }
   ],
   "source": [
    "from src.models import WordClassificationAudio2DCnn, WordClassificationAudioCnnPool as WordClassificationAudioCnn, WordClassificationRnn\n",
    "from src.losses import ClassificationLoss\n",
    "from src.algorithms import FSCL, OML\n",
    "from src.data.datasets import Flickr8kWordClassification, GoogleCommandsWordClassification\n",
    "from src.data.samplers import SpokenWordTaskBatchSampler\n",
    "from src.utils import flatten_dict\n",
    "\n",
    "import torch.nn as nn\n",
    "import torch"
   ]
  },
  {
   "cell_type": "code",
   "execution_count": 4,
   "metadata": {},
   "outputs": [
    {
     "name": "stderr",
     "output_type": "stream",
     "text": [
      "C:\\Users\\ruanv\\AppData\\Local\\Temp\\ipykernel_21612\\1303192644.py:27: UserWarning: nn.init.xavier_uniform is now deprecated in favor of nn.init.xavier_uniform_.\n",
      "  torch.nn.init.xavier_uniform(layer.weight, )\n"
     ]
    }
   ],
   "source": [
    "optim = {\n",
    "'name': 'adam',\n",
    "'inner_steps': 5,\n",
    "'val_inner_steps': 5,\n",
    "'gradient_clip_val': 0,\n",
    "'inner_learning_rate': 0.001,\n",
    "'outer_learning_rate': 0.0001,\n",
    "'scheduler': False,\n",
    "'scheduler_step': 30,\n",
    "'scheduler_decay': 0.1,\n",
    "}\n",
    "\n",
    "encoder = WordClassificationAudio2DCnn(\n",
    "    256, \n",
    "    64, \n",
    "    input_channels=39\n",
    ")\n",
    "\n",
    "class FSCLModel(nn.Module):\n",
    "    def __init__(self, encoder, embedding_dim, n_classes):\n",
    "        super().__init__()\n",
    "\n",
    "        self.encoder = encoder\n",
    "\n",
    "        def return_classification_layer(embedding_dim):\n",
    "            layer = nn.Linear(embedding_dim, 1)\n",
    "            torch.nn.init.xavier_uniform(layer.weight, )\n",
    "            layer = nn.Sequential(\n",
    "                nn.ReLU(),\n",
    "                layer\n",
    "            )\n",
    "            return layer\n",
    "\n",
    "        layers = [return_classification_layer(embedding_dim) for _ in range(n_classes)]\n",
    "        self.classifiers = nn.ModuleList(layers)\n",
    "\n",
    "    def forward(self, audio, total_classes_present):\n",
    "        features = self.encoder(audio)\n",
    "        layer_logits = []\n",
    "        for c_layer in range(total_classes_present):\n",
    "            layer_logits.append(self.classifiers[c_layer](features))\n",
    "        logits = torch.cat(layer_logits, dim=1)\n",
    "        return {'logits':logits}\n",
    "\n",
    "\n",
    "loss_fn = ClassificationLoss()\n",
    "\n",
    "model = FSCLModel(encoder, 256, 50)\n",
    "algorithm = FSCL.load_from_checkpoint(\n",
    "    './nway50_k5.ckpt', \n",
    "    model=model, \n",
    "    training_steps=5,\n",
    "    intial_training_steps=30,\n",
    "    n_classes_start=5,\n",
    "    n_class_additions=5,\n",
    "    loss_func=loss_fn,\n",
    "    optim_config=optim,\n",
    "    k_shot=5,\n",
    "    quick_adapt=True\n",
    ")\n",
    "model = algorithm.model"
   ]
  },
  {
   "cell_type": "code",
   "execution_count": 5,
   "metadata": {},
   "outputs": [],
   "source": [
    "df = pd.read_csv('C:/Users/ruanv/Desktop/speech-fewshot-cl/data/flickr/flickr8k_word_splits_validation.csv')\n"
   ]
  },
  {
   "cell_type": "code",
   "execution_count": 6,
   "metadata": {},
   "outputs": [
    {
     "name": "stderr",
     "output_type": "stream",
     "text": [
      "Loading audio: 100%|██████████| 32974/32974 [00:00<00:00, 388835.57it/s]\n"
     ]
    }
   ],
   "source": [
    "import yaml\n",
    "\n",
    "with open('../config/conversion_method/mfcc.yaml') as f:\n",
    "    conv_config = yaml.safe_load(f) \n",
    "\n",
    "valiadation_dataset = Flickr8kWordClassification(\n",
    "    meta_path='C:/Users/ruanv/Desktop/speech-fewshot-cl/data/flickr/flickr8k_word_splits_validation.csv',\n",
    "    audio_root='C:/Users/ruanv/Desktop/speech-fewshot-cl/data/flickr/wavs/', \n",
    "    conversion_config=conv_config,\n",
    "    stemming=True, \n",
    "    lemmetise=False          \n",
    ")\n",
    "\n",
    "\n",
    "def pad_audio(x, max_audio_len=101, pad_both_sides=False):\n",
    "    import torch.nn.functional as F\n",
    "    if x.size(-1) > max_audio_len:\n",
    "        x = x[:,:max_audio_len]\n",
    "    else:\n",
    "        if pad_both_sides:\n",
    "            pad_lenght = int(max_audio_len-x.size(-1))//2\n",
    "            x = F.pad(x, (pad_lenght, pad_lenght+1 if int(max_audio_len-x.size(-1))%2!=0 else pad_lenght), 'constant', 0)\n",
    "        else:\n",
    "            x = F.pad(x, (0, int(max_audio_len-x.size(-1))), 'constant', 0)\n",
    "    return x\n",
    "\n"
   ]
  },
  {
   "cell_type": "code",
   "execution_count": 7,
   "metadata": {},
   "outputs": [],
   "source": [
    "N_CLASSES = [5,10]\n",
    "K_SHOT = [5,10,20,50]\n",
    "UPDATES = [True, False]\n",
    "\n",
    "LR = 0.0001\n",
    "N_TRAINING_STEPS = 30"
   ]
  },
  {
   "cell_type": "code",
   "execution_count": 8,
   "metadata": {},
   "outputs": [
    {
     "name": "stdout",
     "output_type": "stream",
     "text": [
      "5 5 True\n"
     ]
    },
    {
     "name": "stderr",
     "output_type": "stream",
     "text": [
      "Loading audio: 100%|██████████| 250/250 [00:00<00:00, 259163.62it/s]\n",
      "C:\\Users\\ruanv\\AppData\\Local\\Temp\\ipykernel_21612\\1303192644.py:27: UserWarning: nn.init.xavier_uniform is now deprecated in favor of nn.init.xavier_uniform_.\n",
      "  torch.nn.init.xavier_uniform(layer.weight, )\n"
     ]
    },
    {
     "name": "stdout",
     "output_type": "stream",
     "text": [
      "5 5 False\n"
     ]
    },
    {
     "name": "stderr",
     "output_type": "stream",
     "text": [
      "Loading audio: 100%|██████████| 250/250 [00:00<00:00, 125337.80it/s]\n",
      "C:\\Users\\ruanv\\AppData\\Local\\Temp\\ipykernel_21612\\1303192644.py:27: UserWarning: nn.init.xavier_uniform is now deprecated in favor of nn.init.xavier_uniform_.\n",
      "  torch.nn.init.xavier_uniform(layer.weight, )\n"
     ]
    },
    {
     "name": "stdout",
     "output_type": "stream",
     "text": [
      "5 10 True\n"
     ]
    },
    {
     "name": "stderr",
     "output_type": "stream",
     "text": [
      "Loading audio: 100%|██████████| 500/500 [00:00<00:00, 250615.68it/s]\n",
      "C:\\Users\\ruanv\\AppData\\Local\\Temp\\ipykernel_21612\\1303192644.py:27: UserWarning: nn.init.xavier_uniform is now deprecated in favor of nn.init.xavier_uniform_.\n",
      "  torch.nn.init.xavier_uniform(layer.weight, )\n"
     ]
    },
    {
     "name": "stdout",
     "output_type": "stream",
     "text": [
      "5 10 False\n"
     ]
    },
    {
     "name": "stderr",
     "output_type": "stream",
     "text": [
      "Loading audio: 100%|██████████| 500/500 [00:00<00:00, 250645.63it/s]\n",
      "C:\\Users\\ruanv\\AppData\\Local\\Temp\\ipykernel_21612\\1303192644.py:27: UserWarning: nn.init.xavier_uniform is now deprecated in favor of nn.init.xavier_uniform_.\n",
      "  torch.nn.init.xavier_uniform(layer.weight, )\n"
     ]
    },
    {
     "name": "stdout",
     "output_type": "stream",
     "text": [
      "5 20 True\n"
     ]
    },
    {
     "name": "stderr",
     "output_type": "stream",
     "text": [
      "Loading audio: 100%|██████████| 1000/1000 [00:00<00:00, 334287.40it/s]\n",
      "C:\\Users\\ruanv\\AppData\\Local\\Temp\\ipykernel_21612\\1303192644.py:27: UserWarning: nn.init.xavier_uniform is now deprecated in favor of nn.init.xavier_uniform_.\n",
      "  torch.nn.init.xavier_uniform(layer.weight, )\n"
     ]
    },
    {
     "name": "stdout",
     "output_type": "stream",
     "text": [
      "5 20 False\n"
     ]
    },
    {
     "name": "stderr",
     "output_type": "stream",
     "text": [
      "Loading audio: 100%|██████████| 1000/1000 [00:00<00:00, 334180.86it/s]\n",
      "C:\\Users\\ruanv\\AppData\\Local\\Temp\\ipykernel_21612\\1303192644.py:27: UserWarning: nn.init.xavier_uniform is now deprecated in favor of nn.init.xavier_uniform_.\n",
      "  torch.nn.init.xavier_uniform(layer.weight, )\n"
     ]
    },
    {
     "name": "stdout",
     "output_type": "stream",
     "text": [
      "5 50 True\n"
     ]
    },
    {
     "name": "stderr",
     "output_type": "stream",
     "text": [
      "Loading audio: 100%|██████████| 2500/2500 [00:00<00:00, 227881.95it/s]\n",
      "C:\\Users\\ruanv\\AppData\\Local\\Temp\\ipykernel_21612\\1303192644.py:27: UserWarning: nn.init.xavier_uniform is now deprecated in favor of nn.init.xavier_uniform_.\n",
      "  torch.nn.init.xavier_uniform(layer.weight, )\n"
     ]
    },
    {
     "name": "stdout",
     "output_type": "stream",
     "text": [
      "5 50 False\n"
     ]
    },
    {
     "name": "stderr",
     "output_type": "stream",
     "text": [
      "Loading audio: 100%|██████████| 2500/2500 [00:00<00:00, 358107.99it/s]\n",
      "C:\\Users\\ruanv\\AppData\\Local\\Temp\\ipykernel_21612\\1303192644.py:27: UserWarning: nn.init.xavier_uniform is now deprecated in favor of nn.init.xavier_uniform_.\n",
      "  torch.nn.init.xavier_uniform(layer.weight, )\n"
     ]
    },
    {
     "name": "stdout",
     "output_type": "stream",
     "text": [
      "10 5 True\n"
     ]
    },
    {
     "name": "stderr",
     "output_type": "stream",
     "text": [
      "Loading audio: 100%|██████████| 250/250 [00:00<00:00, 250675.59it/s]\n",
      "C:\\Users\\ruanv\\AppData\\Local\\Temp\\ipykernel_21612\\1303192644.py:27: UserWarning: nn.init.xavier_uniform is now deprecated in favor of nn.init.xavier_uniform_.\n",
      "  torch.nn.init.xavier_uniform(layer.weight, )\n"
     ]
    },
    {
     "name": "stdout",
     "output_type": "stream",
     "text": [
      "10 5 False\n"
     ]
    },
    {
     "name": "stderr",
     "output_type": "stream",
     "text": [
      "Loading audio: 100%|██████████| 250/250 [00:00<00:00, 125322.82it/s]\n",
      "C:\\Users\\ruanv\\AppData\\Local\\Temp\\ipykernel_21612\\1303192644.py:27: UserWarning: nn.init.xavier_uniform is now deprecated in favor of nn.init.xavier_uniform_.\n",
      "  torch.nn.init.xavier_uniform(layer.weight, )\n"
     ]
    },
    {
     "name": "stdout",
     "output_type": "stream",
     "text": [
      "10 10 True\n"
     ]
    },
    {
     "name": "stderr",
     "output_type": "stream",
     "text": [
      "Loading audio: 100%|██████████| 500/500 [00:00<00:00, 250555.79it/s]\n",
      "C:\\Users\\ruanv\\AppData\\Local\\Temp\\ipykernel_21612\\1303192644.py:27: UserWarning: nn.init.xavier_uniform is now deprecated in favor of nn.init.xavier_uniform_.\n",
      "  torch.nn.init.xavier_uniform(layer.weight, )\n"
     ]
    },
    {
     "name": "stdout",
     "output_type": "stream",
     "text": [
      "10 10 False\n"
     ]
    },
    {
     "name": "stderr",
     "output_type": "stream",
     "text": [
      "Loading audio: 100%|██████████| 500/500 [00:00<00:00, 167130.38it/s]\n",
      "C:\\Users\\ruanv\\AppData\\Local\\Temp\\ipykernel_21612\\1303192644.py:27: UserWarning: nn.init.xavier_uniform is now deprecated in favor of nn.init.xavier_uniform_.\n",
      "  torch.nn.init.xavier_uniform(layer.weight, )\n"
     ]
    },
    {
     "name": "stdout",
     "output_type": "stream",
     "text": [
      "10 20 True\n"
     ]
    },
    {
     "name": "stderr",
     "output_type": "stream",
     "text": [
      "Loading audio: 100%|██████████| 1000/1000 [00:00<00:00, 200521.30it/s]\n",
      "C:\\Users\\ruanv\\AppData\\Local\\Temp\\ipykernel_21612\\1303192644.py:27: UserWarning: nn.init.xavier_uniform is now deprecated in favor of nn.init.xavier_uniform_.\n",
      "  torch.nn.init.xavier_uniform(layer.weight, )\n"
     ]
    },
    {
     "name": "stdout",
     "output_type": "stream",
     "text": [
      "10 20 False\n"
     ]
    },
    {
     "name": "stderr",
     "output_type": "stream",
     "text": [
      "Loading audio: 100%|██████████| 1000/1000 [00:00<00:00, 250675.59it/s]\n",
      "C:\\Users\\ruanv\\AppData\\Local\\Temp\\ipykernel_21612\\1303192644.py:27: UserWarning: nn.init.xavier_uniform is now deprecated in favor of nn.init.xavier_uniform_.\n",
      "  torch.nn.init.xavier_uniform(layer.weight, )\n"
     ]
    },
    {
     "name": "stdout",
     "output_type": "stream",
     "text": [
      "10 50 True\n"
     ]
    },
    {
     "name": "stderr",
     "output_type": "stream",
     "text": [
      "Loading audio: 100%|██████████| 2500/2500 [00:00<00:00, 417825.95it/s]\n",
      "C:\\Users\\ruanv\\AppData\\Local\\Temp\\ipykernel_21612\\1303192644.py:27: UserWarning: nn.init.xavier_uniform is now deprecated in favor of nn.init.xavier_uniform_.\n",
      "  torch.nn.init.xavier_uniform(layer.weight, )\n"
     ]
    },
    {
     "name": "stdout",
     "output_type": "stream",
     "text": [
      "10 50 False\n"
     ]
    },
    {
     "name": "stderr",
     "output_type": "stream",
     "text": [
      "Loading audio: 100%|██████████| 2500/2500 [00:00<00:00, 250591.72it/s]\n",
      "C:\\Users\\ruanv\\AppData\\Local\\Temp\\ipykernel_21612\\1303192644.py:27: UserWarning: nn.init.xavier_uniform is now deprecated in favor of nn.init.xavier_uniform_.\n",
      "  torch.nn.init.xavier_uniform(layer.weight, )\n"
     ]
    }
   ],
   "source": [
    "for N in N_CLASSES:\n",
    "    for K in K_SHOT:\n",
    "        for UPDATE in UPDATES:\n",
    "\n",
    "            print(N, K, UPDATE)\n",
    "\n",
    "            df = pd.read_csv('C:/Users/ruanv/Desktop/speech-fewshot-cl/data/flickr/flickr8k_word_splits_validation.csv')\n",
    "            words_keep = [\n",
    "            'surf', 'wave', 'crowd', 'fight', 'togeth', 'ski',\n",
    "            'bridg', 'wood', 'teenag', 'lot', 'mud', 'pool', 'tabl', 'out',\n",
    "            'wet', 'footbal', 'make', 'team', 'shop', 'their', 'edg', 'guitar',\n",
    "            'across', 'area', 'do', 'trick', 'bike', 'obstacl', 'tri', 'rider',\n",
    "            'track', 'room', 'him', 'jacket', 'glass', 'open', 'them', 'cap',\n",
    "            'color', 'set', 'pant', 'wrestl', 'basketbal', 'climber', 'face',\n",
    "            'mountain', 'tent', 'shore', 'ground', 'bar'\n",
    "            ]\n",
    "            df = df[df.stem.isin(words_keep)]\n",
    "\n",
    "            # sample 5 instances of each stem\n",
    "            df = df.groupby('stem').apply(lambda x: x.sample(K)).reset_index(drop=True)\n",
    "            df.to_csv('./plot_data_words.csv', index=False)\n",
    "\n",
    "\n",
    "            valiadation_dataset = Flickr8kWordClassification(\n",
    "                meta_path='plot_data_words.csv',\n",
    "                audio_root='C:/Users/ruanv/Desktop/speech-fewshot-cl/data/flickr/wavs/', \n",
    "                conversion_config=conv_config,\n",
    "                stemming=True, \n",
    "                lemmetise=False          \n",
    "            )\n",
    "\n",
    "            file_name = f'nway{N}_k{K}_update{UPDATE}_MAMLCON.csv'\n",
    "\n",
    "            STEPS = K*N\n",
    "\n",
    "\n",
    "            groups = []\n",
    "            test_groups = []\n",
    "\n",
    "            for i in range(0, len(valiadation_dataset), STEPS):\n",
    "                arrays = []\n",
    "                labels = []\n",
    "\n",
    "                for j in range(0+i, STEPS+i):\n",
    "                    arrays.append(pad_audio(torch.tensor(valiadation_dataset[j][0])).unsqueeze(0))\n",
    "                    labels.append(torch.tensor(valiadation_dataset[j][1]))\n",
    "                \n",
    "                arrays = torch.concat(arrays,dim=0)\n",
    "\n",
    "                # take every 5th instance as test\n",
    "                test_arrays = arrays[::N]\n",
    "                test_labels = labels[::N]\n",
    "\n",
    "                # skip every 5th instance\n",
    "                arrays = torch.concat([array.unsqueeze(0) for i, array in enumerate(arrays) if i%N!=0 or i==0],dim=0)\n",
    "                labels = [label for i, label in enumerate(labels) if i%N!=0 or i==0]\n",
    "\n",
    "                groups.append({'data':arrays, 'labels':labels})\n",
    "                test_groups.append({'data':test_arrays, 'labels':test_labels})\n",
    "\n",
    "            results = pd.DataFrame()\n",
    "\n",
    "            model = FSCLModel(encoder, 256, 50)\n",
    "            algorithm = FSCL.load_from_checkpoint(\n",
    "                './nway50_k5.ckpt', \n",
    "                model=model, \n",
    "                training_steps=5,\n",
    "                intial_training_steps=30,\n",
    "                n_classes_start=5,\n",
    "                n_class_additions=5,\n",
    "                loss_func=loss_fn,\n",
    "                optim_config=optim,\n",
    "                k_shot=5,\n",
    "                quick_adapt=True\n",
    "            )\n",
    "            model = algorithm.model\n",
    "\n",
    "            criterion = ClassificationLoss()\n",
    "            optimizer = torch.optim.Adam(model.parameters(), lr=LR)\n",
    "\n",
    "            # Training loop\n",
    "            for n, group in enumerate(groups):\n",
    "                model.train()\n",
    "                data, labels = group['data'], group['labels']\n",
    "                for i in range(N_TRAINING_STEPS):\n",
    "                    # Clear gradients\n",
    "                    optimizer.zero_grad()\n",
    "\n",
    "                    # Forward pass\n",
    "                    outputs = model(data, (n+1)*N)\n",
    "                    outputs['labels'] = torch.tensor(labels)\n",
    "                    # Compute loss\n",
    "                    loss = criterion(outputs)\n",
    "                    \n",
    "                    # Backward pass and optimization\n",
    "                    loss.backward()\n",
    "                    optimizer.step()\n",
    "                        \n",
    "                # Print loss for each epoch\n",
    "                # print(f'Training loss: {loss.item():.4f}')\n",
    "\n",
    "                if UPDATE:\n",
    "\n",
    "                    for group in groups[:n+1]:\n",
    "                        data, labels = group['data'], group['labels']\n",
    "                        optimizer.zero_grad()\n",
    "\n",
    "                        # take every 5th instance\n",
    "                        data = data[::5]\n",
    "                        labels = labels[::5]\n",
    "\n",
    "                        # Forward pass\n",
    "                        outputs = model(data, (n+1)*N)\n",
    "                        outputs['labels'] = torch.tensor(labels)\n",
    "                        # Compute loss\n",
    "                        loss = criterion(outputs)\n",
    "                        \n",
    "                        # Backward pass and optimization\n",
    "                        loss.backward()\n",
    "                        optimizer.step()\n",
    "\n",
    "                with torch.no_grad():\n",
    "                    model.eval()\n",
    "\n",
    "                    for i, group in enumerate(test_groups[:n+1]):\n",
    "                        data, labels = group['data'], group['labels']\n",
    "                        outputs = model(data, (i+1)*N)\n",
    "                        outputs['labels'] = torch.tensor(labels)\n",
    "                        loss = criterion(outputs)\n",
    "\n",
    "                        predicted_labels = torch.argmax(outputs['logits'], dim=1)\n",
    "                        accuracy = torch.sum(predicted_labels == torch.tensor(labels)).item() / len(labels)\n",
    "\n",
    "                        results = pd.concat([results,pd.DataFrame({'loss':[loss.item()], 'accuracy':[accuracy], 'group':[i], 'training_group':[n]})])\n",
    "                        results.to_csv(file_name, index=False)\n"
   ]
  },
  {
   "cell_type": "code",
   "execution_count": 9,
   "metadata": {},
   "outputs": [
    {
     "name": "stderr",
     "output_type": "stream",
     "text": [
      "Loading audio: 100%|██████████| 250/250 [00:00<00:00, 250615.68it/s]\n",
      "C:\\Users\\ruanv\\AppData\\Local\\Temp\\ipykernel_21612\\1303192644.py:27: UserWarning: nn.init.xavier_uniform is now deprecated in favor of nn.init.xavier_uniform_.\n",
      "  torch.nn.init.xavier_uniform(layer.weight, )\n"
     ]
    },
    {
     "name": "stdout",
     "output_type": "stream",
     "text": [
      "Training loss: 0.0052\n",
      "Training loss: 0.0067\n",
      "Training loss: 0.0104\n",
      "Training loss: 0.0100\n",
      "Training loss: 0.0138\n",
      "Training loss: 0.0228\n",
      "Training loss: 0.0211\n",
      "Training loss: 0.0269\n",
      "Training loss: 0.0199\n",
      "Training loss: 0.0212\n"
     ]
    },
    {
     "name": "stderr",
     "output_type": "stream",
     "text": [
      "Loading audio: 100%|██████████| 250/250 [00:00<00:00, 250795.50it/s]\n",
      "C:\\Users\\ruanv\\AppData\\Local\\Temp\\ipykernel_21612\\1303192644.py:27: UserWarning: nn.init.xavier_uniform is now deprecated in favor of nn.init.xavier_uniform_.\n",
      "  torch.nn.init.xavier_uniform(layer.weight, )\n"
     ]
    },
    {
     "name": "stdout",
     "output_type": "stream",
     "text": [
      "Training loss: 0.0044\n",
      "Training loss: 0.0053\n",
      "Training loss: 0.0074\n",
      "Training loss: 0.0095\n",
      "Training loss: 0.0148\n",
      "Training loss: 0.0161\n",
      "Training loss: 0.0229\n",
      "Training loss: 0.0243\n",
      "Training loss: 0.0164\n",
      "Training loss: 0.0299\n"
     ]
    },
    {
     "name": "stderr",
     "output_type": "stream",
     "text": [
      "Loading audio: 100%|██████████| 500/500 [00:00<00:00, 250675.59it/s]\n",
      "C:\\Users\\ruanv\\AppData\\Local\\Temp\\ipykernel_21612\\1303192644.py:27: UserWarning: nn.init.xavier_uniform is now deprecated in favor of nn.init.xavier_uniform_.\n",
      "  torch.nn.init.xavier_uniform(layer.weight, )\n"
     ]
    },
    {
     "name": "stdout",
     "output_type": "stream",
     "text": [
      "Training loss: 0.0100\n",
      "Training loss: 0.0109\n",
      "Training loss: 0.0193\n",
      "Training loss: 0.0338\n",
      "Training loss: 0.0545\n",
      "Training loss: 0.0467\n",
      "Training loss: 0.0818\n",
      "Training loss: 0.0745\n",
      "Training loss: 0.0886\n",
      "Training loss: 0.0577\n"
     ]
    },
    {
     "name": "stderr",
     "output_type": "stream",
     "text": [
      "Loading audio: 100%|██████████| 500/500 [00:00<00:00, 487483.03it/s]\n",
      "C:\\Users\\ruanv\\AppData\\Local\\Temp\\ipykernel_21612\\1303192644.py:27: UserWarning: nn.init.xavier_uniform is now deprecated in favor of nn.init.xavier_uniform_.\n",
      "  torch.nn.init.xavier_uniform(layer.weight, )\n"
     ]
    },
    {
     "name": "stdout",
     "output_type": "stream",
     "text": [
      "Training loss: 0.0095\n",
      "Training loss: 0.0135\n",
      "Training loss: 0.0186\n",
      "Training loss: 0.0139\n",
      "Training loss: 0.0343\n",
      "Training loss: 0.0300\n",
      "Training loss: 0.0401\n",
      "Training loss: 0.1057\n",
      "Training loss: 0.0425\n",
      "Training loss: 0.0561\n"
     ]
    },
    {
     "name": "stderr",
     "output_type": "stream",
     "text": [
      "Loading audio: 100%|██████████| 1000/1000 [00:00<00:00, 334314.04it/s]\n",
      "C:\\Users\\ruanv\\AppData\\Local\\Temp\\ipykernel_21612\\1303192644.py:27: UserWarning: nn.init.xavier_uniform is now deprecated in favor of nn.init.xavier_uniform_.\n",
      "  torch.nn.init.xavier_uniform(layer.weight, )\n"
     ]
    },
    {
     "name": "stdout",
     "output_type": "stream",
     "text": [
      "Training loss: 0.0110\n",
      "Training loss: 0.0242\n",
      "Training loss: 0.0403\n",
      "Training loss: 0.0616\n",
      "Training loss: 0.1005\n",
      "Training loss: 0.1015\n",
      "Training loss: 0.0921\n",
      "Training loss: 0.1376\n",
      "Training loss: 0.1359\n",
      "Training loss: 0.1867\n"
     ]
    },
    {
     "name": "stderr",
     "output_type": "stream",
     "text": [
      "Loading audio: 100%|██████████| 1000/1000 [00:00<?, ?it/s]\n",
      "C:\\Users\\ruanv\\AppData\\Local\\Temp\\ipykernel_21612\\1303192644.py:27: UserWarning: nn.init.xavier_uniform is now deprecated in favor of nn.init.xavier_uniform_.\n",
      "  torch.nn.init.xavier_uniform(layer.weight, )\n"
     ]
    },
    {
     "name": "stdout",
     "output_type": "stream",
     "text": [
      "Training loss: 0.0103\n",
      "Training loss: 0.0292\n",
      "Training loss: 0.0463\n",
      "Training loss: 0.0353\n",
      "Training loss: 0.1040\n",
      "Training loss: 0.1741\n",
      "Training loss: 0.2038\n",
      "Training loss: 0.2682\n",
      "Training loss: 0.1619\n",
      "Training loss: 0.1823\n"
     ]
    },
    {
     "name": "stderr",
     "output_type": "stream",
     "text": [
      "Loading audio: 100%|██████████| 2500/2500 [00:00<00:00, 208925.46it/s]\n",
      "C:\\Users\\ruanv\\AppData\\Local\\Temp\\ipykernel_21612\\1303192644.py:27: UserWarning: nn.init.xavier_uniform is now deprecated in favor of nn.init.xavier_uniform_.\n",
      "  torch.nn.init.xavier_uniform(layer.weight, )\n"
     ]
    },
    {
     "name": "stdout",
     "output_type": "stream",
     "text": [
      "Training loss: 0.0178\n",
      "Training loss: 0.0893\n",
      "Training loss: 0.1254\n",
      "Training loss: 0.1257\n",
      "Training loss: 0.3094\n",
      "Training loss: 0.2099\n",
      "Training loss: 0.2992\n",
      "Training loss: 0.3917\n",
      "Training loss: 0.2979\n",
      "Training loss: 0.3460\n"
     ]
    },
    {
     "name": "stderr",
     "output_type": "stream",
     "text": [
      "Loading audio: 100%|██████████| 2500/2500 [00:00<00:00, 380815.69it/s]\n",
      "C:\\Users\\ruanv\\AppData\\Local\\Temp\\ipykernel_21612\\1303192644.py:27: UserWarning: nn.init.xavier_uniform is now deprecated in favor of nn.init.xavier_uniform_.\n",
      "  torch.nn.init.xavier_uniform(layer.weight, )\n"
     ]
    },
    {
     "name": "stdout",
     "output_type": "stream",
     "text": [
      "Training loss: 0.0310\n",
      "Training loss: 0.0878\n",
      "Training loss: 0.1125\n",
      "Training loss: 0.1453\n",
      "Training loss: 0.3099\n",
      "Training loss: 0.3262\n",
      "Training loss: 0.3091\n",
      "Training loss: 0.4790\n",
      "Training loss: 0.4086\n",
      "Training loss: 0.3802\n"
     ]
    },
    {
     "name": "stderr",
     "output_type": "stream",
     "text": [
      "Loading audio: 100%|██████████| 250/250 [00:00<00:00, 250256.80it/s]\n",
      "C:\\Users\\ruanv\\AppData\\Local\\Temp\\ipykernel_21612\\1303192644.py:27: UserWarning: nn.init.xavier_uniform is now deprecated in favor of nn.init.xavier_uniform_.\n",
      "  torch.nn.init.xavier_uniform(layer.weight, )\n"
     ]
    },
    {
     "name": "stdout",
     "output_type": "stream",
     "text": [
      "Training loss: 0.0222\n",
      "Training loss: 0.0233\n",
      "Training loss: 0.0301\n",
      "Training loss: 0.0382\n",
      "Training loss: 0.0327\n"
     ]
    },
    {
     "name": "stderr",
     "output_type": "stream",
     "text": [
      "Loading audio: 100%|██████████| 250/250 [00:00<00:00, 250795.50it/s]\n",
      "C:\\Users\\ruanv\\AppData\\Local\\Temp\\ipykernel_21612\\1303192644.py:27: UserWarning: nn.init.xavier_uniform is now deprecated in favor of nn.init.xavier_uniform_.\n",
      "  torch.nn.init.xavier_uniform(layer.weight, )\n"
     ]
    },
    {
     "name": "stdout",
     "output_type": "stream",
     "text": [
      "Training loss: 0.0258\n",
      "Training loss: 0.0257\n",
      "Training loss: 0.0427\n",
      "Training loss: 0.0402\n",
      "Training loss: 0.0542\n"
     ]
    },
    {
     "name": "stderr",
     "output_type": "stream",
     "text": [
      "Loading audio: 100%|██████████| 500/500 [00:00<?, ?it/s]\n",
      "C:\\Users\\ruanv\\AppData\\Local\\Temp\\ipykernel_21612\\1303192644.py:27: UserWarning: nn.init.xavier_uniform is now deprecated in favor of nn.init.xavier_uniform_.\n",
      "  torch.nn.init.xavier_uniform(layer.weight, )\n"
     ]
    },
    {
     "name": "stdout",
     "output_type": "stream",
     "text": [
      "Training loss: 0.0520\n",
      "Training loss: 0.0673\n",
      "Training loss: 0.0730\n",
      "Training loss: 0.1251\n",
      "Training loss: 0.1600\n"
     ]
    },
    {
     "name": "stderr",
     "output_type": "stream",
     "text": [
      "Loading audio: 100%|██████████| 500/500 [00:00<00:00, 501351.18it/s]\n",
      "C:\\Users\\ruanv\\AppData\\Local\\Temp\\ipykernel_21612\\1303192644.py:27: UserWarning: nn.init.xavier_uniform is now deprecated in favor of nn.init.xavier_uniform_.\n",
      "  torch.nn.init.xavier_uniform(layer.weight, )\n"
     ]
    },
    {
     "name": "stdout",
     "output_type": "stream",
     "text": [
      "Training loss: 0.0555\n",
      "Training loss: 0.0658\n",
      "Training loss: 0.1087\n",
      "Training loss: 0.1084\n",
      "Training loss: 0.1082\n"
     ]
    },
    {
     "name": "stderr",
     "output_type": "stream",
     "text": [
      "Loading audio: 100%|██████████| 1000/1000 [00:00<00:00, 164269.93it/s]\n",
      "C:\\Users\\ruanv\\AppData\\Local\\Temp\\ipykernel_21612\\1303192644.py:27: UserWarning: nn.init.xavier_uniform is now deprecated in favor of nn.init.xavier_uniform_.\n",
      "  torch.nn.init.xavier_uniform(layer.weight, )\n"
     ]
    },
    {
     "name": "stdout",
     "output_type": "stream",
     "text": [
      "Training loss: 0.0873\n",
      "Training loss: 0.1081\n",
      "Training loss: 0.1647\n",
      "Training loss: 0.3012\n",
      "Training loss: 0.3658\n"
     ]
    },
    {
     "name": "stderr",
     "output_type": "stream",
     "text": [
      "Loading audio: 100%|██████████| 1000/1000 [00:00<00:00, 334314.04it/s]\n",
      "C:\\Users\\ruanv\\AppData\\Local\\Temp\\ipykernel_21612\\1303192644.py:27: UserWarning: nn.init.xavier_uniform is now deprecated in favor of nn.init.xavier_uniform_.\n",
      "  torch.nn.init.xavier_uniform(layer.weight, )\n"
     ]
    },
    {
     "name": "stdout",
     "output_type": "stream",
     "text": [
      "Training loss: 0.0788\n",
      "Training loss: 0.1121\n",
      "Training loss: 0.2597\n",
      "Training loss: 0.2700\n",
      "Training loss: 0.3677\n"
     ]
    },
    {
     "name": "stderr",
     "output_type": "stream",
     "text": [
      "Loading audio: 100%|██████████| 2500/2500 [00:00<00:00, 496320.35it/s]\n",
      "C:\\Users\\ruanv\\AppData\\Local\\Temp\\ipykernel_21612\\1303192644.py:27: UserWarning: nn.init.xavier_uniform is now deprecated in favor of nn.init.xavier_uniform_.\n",
      "  torch.nn.init.xavier_uniform(layer.weight, )\n"
     ]
    },
    {
     "name": "stdout",
     "output_type": "stream",
     "text": [
      "Training loss: 0.2195\n",
      "Training loss: 0.2548\n",
      "Training loss: 0.4147\n",
      "Training loss: 0.6012\n",
      "Training loss: 0.6265\n"
     ]
    },
    {
     "name": "stderr",
     "output_type": "stream",
     "text": [
      "Loading audio: 100%|██████████| 2500/2500 [00:00<00:00, 344461.75it/s]\n",
      "C:\\Users\\ruanv\\AppData\\Local\\Temp\\ipykernel_21612\\1303192644.py:27: UserWarning: nn.init.xavier_uniform is now deprecated in favor of nn.init.xavier_uniform_.\n",
      "  torch.nn.init.xavier_uniform(layer.weight, )\n"
     ]
    },
    {
     "name": "stdout",
     "output_type": "stream",
     "text": [
      "Training loss: 0.1620\n",
      "Training loss: 0.2358\n",
      "Training loss: 0.3682\n",
      "Training loss: 0.5313\n",
      "Training loss: 0.5410\n"
     ]
    }
   ],
   "source": [
    "for N in N_CLASSES:\n",
    "    for K in K_SHOT:\n",
    "        for UPDATE in UPDATES:\n",
    "\n",
    "            df = pd.read_csv('C:/Users/ruanv/Desktop/speech-fewshot-cl/data/flickr/flickr8k_word_splits_validation.csv')\n",
    "            words_keep = [\n",
    "            'surf', 'wave', 'crowd', 'fight', 'togeth', 'ski',\n",
    "            'bridg', 'wood', 'teenag', 'lot', 'mud', 'pool', 'tabl', 'out',\n",
    "            'wet', 'footbal', 'make', 'team', 'shop', 'their', 'edg', 'guitar',\n",
    "            'across', 'area', 'do', 'trick', 'bike', 'obstacl', 'tri', 'rider',\n",
    "            'track', 'room', 'him', 'jacket', 'glass', 'open', 'them', 'cap',\n",
    "            'color', 'set', 'pant', 'wrestl', 'basketbal', 'climber', 'face',\n",
    "            'mountain', 'tent', 'shore', 'ground', 'bar'\n",
    "            ]\n",
    "            df = df[df.stem.isin(words_keep)]\n",
    "\n",
    "            # sample 5 instances of each stem\n",
    "            df = df.groupby('stem').apply(lambda x: x.sample(K)).reset_index(drop=True)\n",
    "            df.to_csv('./plot_data_words.csv', index=False)\n",
    "\n",
    "\n",
    "            valiadation_dataset = Flickr8kWordClassification(\n",
    "                meta_path='plot_data_words.csv',\n",
    "                audio_root='C:/Users/ruanv/Desktop/speech-fewshot-cl/data/flickr/wavs/', \n",
    "                conversion_config=conv_config,\n",
    "                stemming=True, \n",
    "                lemmetise=False          \n",
    "            )\n",
    "\n",
    "            file_name = f'nway{N}_k{K}_update{UPDATE}.csv'\n",
    "\n",
    "            STEPS = K*N\n",
    "\n",
    "\n",
    "            groups = []\n",
    "            test_groups = []\n",
    "\n",
    "            for i in range(0, len(valiadation_dataset), STEPS):\n",
    "                arrays = []\n",
    "                labels = []\n",
    "\n",
    "                for j in range(0+i, STEPS+i):\n",
    "                    arrays.append(pad_audio(torch.tensor(valiadation_dataset[j][0])).unsqueeze(0))\n",
    "                    labels.append(torch.tensor(valiadation_dataset[j][1]))\n",
    "                \n",
    "                arrays = torch.concat(arrays,dim=0)\n",
    "\n",
    "                # take every 5th instance as test\n",
    "                test_arrays = arrays[::N]\n",
    "                test_labels = labels[::N]\n",
    "\n",
    "                # skip every 5th instance\n",
    "                arrays = torch.concat([array.unsqueeze(0) for i, array in enumerate(arrays) if i%N!=0 or i==0],dim=0)\n",
    "                labels = [label for i, label in enumerate(labels) if i%N!=0 or i==0]\n",
    "\n",
    "                groups.append({'data':arrays, 'labels':labels})\n",
    "                test_groups.append({'data':test_arrays, 'labels':test_labels})\n",
    "\n",
    "            results = pd.DataFrame()\n",
    "\n",
    "            encoder = WordClassificationAudio2DCnn(\n",
    "                256, \n",
    "                64, \n",
    "                input_channels=39\n",
    "            )\n",
    "\n",
    "            model = FSCLModel(encoder, 256, 50)\n",
    "            criterion = ClassificationLoss()\n",
    "            optimizer = torch.optim.Adam(model.parameters(), lr=LR)\n",
    "\n",
    "            # Training loop\n",
    "            for n, group in enumerate(groups):\n",
    "                model.train()\n",
    "                data, labels = group['data'], group['labels']\n",
    "                for i in range(N_TRAINING_STEPS):\n",
    "                    # Clear gradients\n",
    "                    optimizer.zero_grad()\n",
    "                    \n",
    "                    # Forward pass\n",
    "                    outputs = model(data, (n+1)*N)\n",
    "                    outputs['labels'] = torch.tensor(labels)\n",
    "                    # Compute loss\n",
    "                    loss = criterion(outputs)\n",
    "                    \n",
    "                    # Backward pass and optimization\n",
    "                    loss.backward()\n",
    "                    optimizer.step()\n",
    "                        \n",
    "                # Print loss for each epoch\n",
    "                print(f'Training loss: {loss.item():.4f}')\n",
    "\n",
    "                if UPDATE:\n",
    "\n",
    "                    for group in groups[:n+1]:\n",
    "                        data, labels = group['data'], group['labels']\n",
    "                        optimizer.zero_grad()\n",
    "\n",
    "                        # take every 5th instance\n",
    "                        data = data[::5]\n",
    "                        labels = labels[::5]\n",
    "\n",
    "                        # Forward pass\n",
    "                        outputs = model(data, (n+1)*N)\n",
    "                        outputs['labels'] = torch.tensor(labels)\n",
    "                        # Compute loss\n",
    "                        loss = criterion(outputs)\n",
    "                        \n",
    "                        # Backward pass and optimization\n",
    "                        loss.backward()\n",
    "                        optimizer.step()\n",
    "\n",
    "                with torch.no_grad():\n",
    "                    model.eval()\n",
    "\n",
    "                    for i, group in enumerate(test_groups[:n+1]):\n",
    "                        data, labels = group['data'], group['labels']\n",
    "                        outputs = model(data, (i+1)*N)\n",
    "                        outputs['labels'] = torch.tensor(labels)\n",
    "                        loss = criterion(outputs)\n",
    "\n",
    "                        predicted_labels = torch.argmax(outputs['logits'], dim=1)\n",
    "                        accuracy = torch.sum(predicted_labels == torch.tensor(labels)).item() / len(labels)\n",
    "\n",
    "                        results = pd.concat([results,pd.DataFrame({'loss':[loss.item()], 'accuracy':[accuracy], 'group':[i], 'training_group':[n]})])\n",
    "                        results.to_csv(file_name, index=False)\n"
   ]
  },
  {
   "cell_type": "code",
   "execution_count": 14,
   "metadata": {},
   "outputs": [],
   "source": [
    "from src.algorithms import OML\n",
    "\n",
    "\n",
    "class OMLModel(nn.Module):\n",
    "    def __init__(self, encoder, embedding_dim, n_classes):\n",
    "        super().__init__()\n",
    "\n",
    "        self.encoder = encoder\n",
    "\n",
    "        def return_classification_layer(embedding_dim):\n",
    "            layer = nn.Linear(embedding_dim, 1)\n",
    "            torch.nn.init.xavier_uniform(layer.weight, )\n",
    "            layer = nn.Sequential(\n",
    "                nn.ReLU(),\n",
    "                layer\n",
    "            )\n",
    "            return layer\n",
    "\n",
    "        layers = [return_classification_layer(embedding_dim) for _ in range(n_classes)]\n",
    "        self.classifiers = nn.ModuleList(layers)\n",
    "\n",
    "    def forward(self, audio, total_classes_present, inner_loop=False):\n",
    "        if inner_loop:\n",
    "            with torch.no_grad():\n",
    "                features = self.encoder(audio)\n",
    "        else:\n",
    "            features = self.encoder(audio)\n",
    "\n",
    "        layer_logits = []\n",
    "        for c_layer in range(len(self.classifiers)):\n",
    "            layer_logits.append(self.classifiers[c_layer](features))\n",
    "        logits = torch.cat(layer_logits, dim=1)\n",
    "        \n",
    "        return {'logits':logits}"
   ]
  },
  {
   "cell_type": "code",
   "execution_count": 20,
   "metadata": {},
   "outputs": [
    {
     "name": "stdout",
     "output_type": "stream",
     "text": [
      "5 50 True\n"
     ]
    },
    {
     "name": "stderr",
     "output_type": "stream",
     "text": [
      "Loading audio: 100%|██████████| 2500/2500 [00:00<00:00, 227867.09it/s]\n"
     ]
    },
    {
     "ename": "IndexError",
     "evalue": "list index out of range",
     "output_type": "error",
     "traceback": [
      "\u001b[1;31m---------------------------------------------------------------------------\u001b[0m",
      "\u001b[1;31mIndexError\u001b[0m                                Traceback (most recent call last)",
      "Cell \u001b[1;32mIn [20], line 45\u001b[0m\n\u001b[0;32m     42\u001b[0m labels \u001b[39m=\u001b[39m []\n\u001b[0;32m     44\u001b[0m \u001b[39mfor\u001b[39;00m j \u001b[39min\u001b[39;00m \u001b[39mrange\u001b[39m(\u001b[39m0\u001b[39m\u001b[39m+\u001b[39mi, STEPS\u001b[39m+\u001b[39mi):\n\u001b[1;32m---> 45\u001b[0m     arrays\u001b[39m.\u001b[39mappend(pad_audio(torch\u001b[39m.\u001b[39mtensor(valiadation_dataset[j][\u001b[39m0\u001b[39m]))\u001b[39m.\u001b[39munsqueeze(\u001b[39m0\u001b[39m))\n\u001b[0;32m     46\u001b[0m     labels\u001b[39m.\u001b[39mappend(torch\u001b[39m.\u001b[39mtensor(valiadation_dataset[j][\u001b[39m1\u001b[39m]))\n\u001b[0;32m     48\u001b[0m arrays \u001b[39m=\u001b[39m torch\u001b[39m.\u001b[39mconcat(arrays,dim\u001b[39m=\u001b[39m\u001b[39m0\u001b[39m)\n",
      "File \u001b[1;32mc:\\users\\ruanv\\desktop\\speech-fewshot-cl\\src\\data\\datasets.py:55\u001b[0m, in \u001b[0;36mFlickr8kWordClassification.__getitem__\u001b[1;34m(self, idx)\u001b[0m\n\u001b[0;32m     54\u001b[0m \u001b[39mdef\u001b[39;00m \u001b[39m__getitem__\u001b[39m(\u001b[39mself\u001b[39m, idx):\n\u001b[1;32m---> 55\u001b[0m     audio_path \u001b[39m=\u001b[39m \u001b[39mself\u001b[39;49m\u001b[39m.\u001b[39;49maudio_files[idx]    \n\u001b[0;32m     57\u001b[0m     \u001b[39mif\u001b[39;00m os\u001b[39m.\u001b[39mpath\u001b[39m.\u001b[39mexists(audio_path\u001b[39m.\u001b[39mreplace(\u001b[39m'\u001b[39m\u001b[39m.wav\u001b[39m\u001b[39m'\u001b[39m, \u001b[39m'\u001b[39m\u001b[39m.npy\u001b[39m\u001b[39m'\u001b[39m)):\n\u001b[0;32m     58\u001b[0m         audio \u001b[39m=\u001b[39m np\u001b[39m.\u001b[39mload(audio_path\u001b[39m.\u001b[39mreplace(\u001b[39m'\u001b[39m\u001b[39m.wav\u001b[39m\u001b[39m'\u001b[39m, \u001b[39m'\u001b[39m\u001b[39m.npy\u001b[39m\u001b[39m'\u001b[39m), allow_pickle\u001b[39m=\u001b[39m\u001b[39mTrue\u001b[39;00m)\n",
      "\u001b[1;31mIndexError\u001b[0m: list index out of range"
     ]
    }
   ],
   "source": [
    "for N in [5]:\n",
    "    for K in [50]:\n",
    "        for UPDATE in UPDATES:\n",
    "\n",
    "            print(N, K, UPDATE)\n",
    "\n",
    "            df = pd.read_csv('C:/Users/ruanv/Desktop/speech-fewshot-cl/data/flickr/flickr8k_word_splits_validation.csv')\n",
    "            words_keep = [\n",
    "            'surf', 'wave', 'crowd', 'fight', 'togeth', 'ski',\n",
    "            'bridg', 'wood', 'teenag', 'lot', 'mud', 'pool', 'tabl', 'out',\n",
    "            'wet', 'footbal', 'make', 'team', 'shop', 'their', 'edg', 'guitar',\n",
    "            'across', 'area', 'do', 'trick', 'bike', 'obstacl', 'tri', 'rider',\n",
    "            'track', 'room', 'him', 'jacket', 'glass', 'open', 'them', 'cap',\n",
    "            'color', 'set', 'pant', 'wrestl', 'basketbal', 'climber', 'face',\n",
    "            'mountain', 'tent', 'shore', 'ground', 'bar'\n",
    "            ]\n",
    "            df = df[df.stem.isin(words_keep)]\n",
    "\n",
    "            # sample 5 instances of each stem\n",
    "            df = df.groupby('stem').apply(lambda x: x.sample(K)).reset_index(drop=True)\n",
    "            df.to_csv('./plot_data_words.csv', index=False)\n",
    "\n",
    "\n",
    "            valiadation_dataset = Flickr8kWordClassification(\n",
    "                meta_path='plot_data_words.csv',\n",
    "                audio_root='C:/Users/ruanv/Desktop/speech-fewshot-cl/data/flickr/wavs/', \n",
    "                conversion_config=conv_config,\n",
    "                stemming=True, \n",
    "                lemmetise=False          \n",
    "            )\n",
    "\n",
    "            file_name = f'nway{N}_k{K}_update{UPDATE}_OML.csv'\n",
    "\n",
    "            STEPS = K*N\n",
    "\n",
    "\n",
    "            groups = []\n",
    "            test_groups = []\n",
    "\n",
    "            for i in range(0, len(valiadation_dataset), STEPS):\n",
    "                arrays = []\n",
    "                labels = []\n",
    "\n",
    "                for j in range(0+i, STEPS+i):\n",
    "                    arrays.append(pad_audio(torch.tensor(valiadation_dataset[j][0])).unsqueeze(0))\n",
    "                    labels.append(torch.tensor(valiadation_dataset[j][1]))\n",
    "                \n",
    "                arrays = torch.concat(arrays,dim=0)\n",
    "\n",
    "                # take every 5th instance as test\n",
    "                test_arrays = arrays[::N]\n",
    "                test_labels = labels[::N]\n",
    "\n",
    "                # skip every 5th instance\n",
    "                arrays = torch.concat([array.unsqueeze(0) for i, array in enumerate(arrays) if i%N!=0 or i==0],dim=0)\n",
    "                labels = [label for i, label in enumerate(labels) if i%N!=0 or i==0]\n",
    "\n",
    "                groups.append({'data':arrays, 'labels':labels})\n",
    "                test_groups.append({'data':test_arrays, 'labels':test_labels})\n",
    "\n",
    "            results = pd.DataFrame()\n",
    "\n",
    "            encoder = WordClassificationAudio2DCnn(\n",
    "                4096, \n",
    "                64, \n",
    "                input_channels=39\n",
    "            )\n",
    "\n",
    "            model = OMLModel(encoder, 4096, 50)\n",
    "            algorithm = OML.load_from_checkpoint(\n",
    "                '../CL_training_results_VERSION_2none_label/flickr8k/maml/OML/2d_cnn/mfcc/50_way/5_shot/0/checkpoints/epoch=365-validation_query_accuracy=0.54.ckpt', \n",
    "                model=model, \n",
    "                training_steps=5,\n",
    "                intial_training_steps=30,\n",
    "                n_classes_start=5,\n",
    "                n_class_additions=5,\n",
    "                loss_func=loss_fn,\n",
    "                optim_config=optim,\n",
    "                k_shot=5,\n",
    "            )\n",
    "            model = algorithm.model\n",
    "\n",
    "            criterion = ClassificationLoss()\n",
    "            optimizer = torch.optim.Adam(model.parameters(), lr=LR)\n",
    "\n",
    "            # Training loop\n",
    "            for n, group in enumerate(groups):\n",
    "                model.train()\n",
    "                data, labels = group['data'], group['labels']\n",
    "                for i in range(200):\n",
    "                    # Clear gradients\n",
    "                    optimizer.zero_grad()\n",
    "\n",
    "                    # Forward pass\n",
    "                    outputs = model(data, (n+1)*N)\n",
    "                    outputs['labels'] = torch.tensor(labels)\n",
    "                    # Compute loss\n",
    "                    loss = criterion(outputs)\n",
    "                    \n",
    "                    # Backward pass and optimization\n",
    "                    loss.backward()\n",
    "                    optimizer.step()\n",
    "                        \n",
    "                # Print loss for each epoch\n",
    "                # print(f'Training loss: {loss.item():.4f}')\n",
    "\n",
    "                if UPDATE:\n",
    "\n",
    "                    for group in groups[:n+1]:\n",
    "                        data, labels = group['data'], group['labels']\n",
    "                        optimizer.zero_grad()\n",
    "\n",
    "                        # take every 5th instance\n",
    "                        data = data[::5]\n",
    "                        labels = labels[::5]\n",
    "\n",
    "                        # Forward pass\n",
    "                        outputs = model(data, (n+1)*N)\n",
    "                        outputs['labels'] = torch.tensor(labels)\n",
    "                        # Compute loss\n",
    "                        loss = criterion(outputs)\n",
    "                        \n",
    "                        # Backward pass and optimization\n",
    "                        loss.backward()\n",
    "                        optimizer.step()\n",
    "\n",
    "                with torch.no_grad():\n",
    "                    model.eval()\n",
    "\n",
    "                    for i, group in enumerate(test_groups[:n+1]):\n",
    "                        data, labels = group['data'], group['labels']\n",
    "                        outputs = model(data, (i+1)*N)\n",
    "                        outputs['labels'] = torch.tensor(labels)\n",
    "                        loss = criterion(outputs)\n",
    "\n",
    "                        predicted_labels = torch.argmax(outputs['logits'], dim=1)\n",
    "                        accuracy = torch.sum(predicted_labels == torch.tensor(labels)).item() / len(labels)\n",
    "\n",
    "                        results = pd.concat([results,pd.DataFrame({'loss':[loss.item()], 'accuracy':[accuracy], 'group':[i], 'training_group':[n]})])\n",
    "                        results.to_csv(file_name, index=False)\n"
   ]
  },
  {
   "attachments": {},
   "cell_type": "markdown",
   "metadata": {},
   "source": [
    "# Investigate CL insights"
   ]
  },
  {
   "cell_type": "code",
   "execution_count": 162,
   "metadata": {},
   "outputs": [],
   "source": [
    "import pandas as pd\n",
    "import matplotlib.pyplot as plt\n",
    "import seaborn as sns\n",
    "\n",
    "all_data = pd.DataFrame()\n",
    "\n",
    "import os\n",
    "for file in os.listdir('./'):\n",
    "    if file.endswith('.csv'):\n",
    "        if 'nway10' in file:\n",
    "            N=10\n",
    "        else:\n",
    "            N=5\n",
    "        \n",
    "        if 'False' in file:\n",
    "            quick_adapt = False\n",
    "        else:\n",
    "            quick_adapt = True\n",
    "\n",
    "        if 'MAML' in file:\n",
    "            MAML = 'MAML'\n",
    "        elif 'OML' in file:\n",
    "            MAML = 'OML'\n",
    "        else:\n",
    "            MAML = 'RANDOM'\n",
    "\n",
    "        \n",
    "\n",
    "        if 'k50' in file:\n",
    "            K=50\n",
    "        elif 'k10' in file:\n",
    "            K=10\n",
    "        elif 'k20' in file:\n",
    "            K=20\n",
    "        elif 'k5' in file:\n",
    "            K=5\n",
    "        \n",
    "        data = pd.read_csv(file)\n",
    "        data['N'] = N\n",
    "        data['quick_adapt'] = quick_adapt\n",
    "        data['MAMLCon'] = MAML\n",
    "        data['K'] = K\n",
    "        all_data = pd.concat([all_data, data]).reset_index(drop=True)"
   ]
  },
  {
   "cell_type": "code",
   "execution_count": 200,
   "metadata": {},
   "outputs": [],
   "source": [
    "# sort by grou and training group, then calculate the fisrt minus last of each group\n",
    "\n",
    "# N = 10\n",
    "# K = [5] # good for normal and maml\n",
    "\n",
    "# N = 5\n",
    "# K = [50] # good for normal and maml\n",
    "\n",
    "data_mamlcon = all_data[(all_data['quick_adapt']==True)&(all_data['N']==N)&(all_data['K'].isin(K))&(all_data['MAMLCon']=='MAML')]\n",
    "data_normal = all_data[(all_data['quick_adapt']==True)&(all_data['N']==N)&(all_data['K'].isin(K))&(all_data['MAMLCon']=='RANDOM')]\n",
    "data_oml = all_data[(all_data['quick_adapt']==False)&(all_data['N']==N)&(all_data['K'].isin(K))&(all_data['MAMLCon']=='OML')]\n",
    "\n",
    "\n",
    "first_accuracies = {}\n",
    "final_accuracies = {}\n",
    "for group in data_mamlcon.group.unique():\n",
    "    first_accuracies[group] = data_mamlcon[data_mamlcon['group']==group].sort_values('training_group', ascending=True).iloc[0]['accuracy']\n",
    "    final_accuracies[group] = data_mamlcon[data_mamlcon['group']==group].sort_values('training_group', ascending=True).iloc[-1]['accuracy']\n",
    "    \n",
    "\n",
    "first_accuracies_normal = {}\n",
    "final_accuracies_normal = {}\n",
    "for group in data_normal.group.unique():\n",
    "    first_accuracies_normal[group] = data_normal[data_normal['group']==group].sort_values('training_group', ascending=True).iloc[0]['accuracy']\n",
    "    final_accuracies_normal[group] = data_normal[data_normal['group']==group].sort_values('training_group', ascending=True).iloc[-1]['accuracy']\n",
    "\n",
    "first_accuracies_oml = {}\n",
    "final_accuracies_oml = {}\n",
    "for group in data_oml.group.unique():\n",
    "    first_accuracies_oml[group] = data_oml[data_oml['group']==group].sort_values('training_group', ascending=True).iloc[0]['accuracy']\n",
    "    final_accuracies_oml[group] = data_oml[data_oml['group']==group].sort_values('training_group', ascending=True).iloc[-1]['accuracy']"
   ]
  },
  {
   "cell_type": "code",
   "execution_count": 202,
   "metadata": {},
   "outputs": [
    {
     "name": "stdout",
     "output_type": "stream",
     "text": [
      "Normal:\n",
      "dict_values([0.84, 0.76, 0.86, 0.98, 0.78, 0.94, 0.8, 0.86, 0.86, 0.72])\n",
      "dict_values([0.84, 0.6, 0.54, 0.74, 0.44, 0.42, 0.38, 0.38, 0.44, 0.72])\n",
      "Average final accuracy: 0.55\n",
      "\n",
      "MAML:\n",
      "dict_values([0.98, 0.94, 0.94, 0.96, 0.74, 0.88, 0.92, 0.98, 0.86, 0.96])\n",
      "dict_values([1.0, 0.96, 0.84, 0.78, 0.6, 0.76, 0.64, 0.76, 0.62, 0.96])\n",
      "Average final accuracy: 0.7919999999999999\n",
      "\n",
      "OML:\n",
      "dict_values([0.2, 0.6, 0.84, 0.96, 0.88, 0.88, 0.72, 0.72, 0.72, 0.56])\n",
      "dict_values([0.1, 0.0, 0.06, 0.0, 0.16, 0.02, 0.0, 0.14, 0.7, 0.56])\n",
      "Average final accuracy: 0.174\n"
     ]
    }
   ],
   "source": [
    "print('Normal:')\n",
    "print(first_accuracies_normal.values())\n",
    "print(final_accuracies_normal.values())\n",
    "print(f'Average final accuracy: {sum(final_accuracies_normal.values())/len(final_accuracies_normal.values())}')\n",
    "\n",
    "print('')\n",
    "print('MAML:')\n",
    "print(first_accuracies.values())\n",
    "print(final_accuracies.values())\n",
    "print(f'Average final accuracy: {sum(final_accuracies.values())/len(final_accuracies.values())}')\n",
    "\n",
    "\n",
    "print('')\n",
    "print('OML:')\n",
    "print(first_accuracies_oml.values())\n",
    "print(final_accuracies_oml.values())\n",
    "print(f'Average final accuracy: {sum(final_accuracies_oml.values())/len(final_accuracies_oml.values())}')"
   ]
  },
  {
   "cell_type": "code",
   "execution_count": 149,
   "metadata": {},
   "outputs": [
    {
     "data": {
      "text/plain": [
       "0.42500000000000004"
      ]
     },
     "execution_count": 149,
     "metadata": {},
     "output_type": "execute_result"
    }
   ],
   "source": [
    "np.mean(list(final_accuracies_oml.values()))"
   ]
  },
  {
   "cell_type": "code",
   "execution_count": 145,
   "metadata": {},
   "outputs": [
    {
     "data": {
      "text/plain": [
       "{0: 0.2, 1: 0.2, 2: 1.0, 3: 1.0, 4: 0.8, 5: 1.0, 6: 0.6, 7: 1.0}"
      ]
     },
     "execution_count": 145,
     "metadata": {},
     "output_type": "execute_result"
    }
   ],
   "source": [
    "first_accuracies_oml"
   ]
  },
  {
   "cell_type": "code",
   "execution_count": 80,
   "metadata": {},
   "outputs": [
    {
     "data": {
      "text/html": [
       "<div>\n",
       "<style scoped>\n",
       "    .dataframe tbody tr th:only-of-type {\n",
       "        vertical-align: middle;\n",
       "    }\n",
       "\n",
       "    .dataframe tbody tr th {\n",
       "        vertical-align: top;\n",
       "    }\n",
       "\n",
       "    .dataframe thead th {\n",
       "        text-align: right;\n",
       "    }\n",
       "</style>\n",
       "<table border=\"1\" class=\"dataframe\">\n",
       "  <thead>\n",
       "    <tr style=\"text-align: right;\">\n",
       "      <th></th>\n",
       "      <th>group</th>\n",
       "      <th>MAMLCon</th>\n",
       "      <th>Drop in Accuracy</th>\n",
       "      <th>Standard Deviation</th>\n",
       "      <th>confidence interval</th>\n",
       "    </tr>\n",
       "  </thead>\n",
       "  <tbody>\n",
       "    <tr>\n",
       "      <th>0</th>\n",
       "      <td>0</td>\n",
       "      <td>False</td>\n",
       "      <td>40.0</td>\n",
       "      <td>NaN</td>\n",
       "      <td>(nan, nan)</td>\n",
       "    </tr>\n",
       "    <tr>\n",
       "      <th>1</th>\n",
       "      <td>0</td>\n",
       "      <td>True</td>\n",
       "      <td>0.0</td>\n",
       "      <td>NaN</td>\n",
       "      <td>(nan, nan)</td>\n",
       "    </tr>\n",
       "    <tr>\n",
       "      <th>2</th>\n",
       "      <td>1</td>\n",
       "      <td>False</td>\n",
       "      <td>20.0</td>\n",
       "      <td>NaN</td>\n",
       "      <td>(nan, nan)</td>\n",
       "    </tr>\n",
       "    <tr>\n",
       "      <th>3</th>\n",
       "      <td>1</td>\n",
       "      <td>True</td>\n",
       "      <td>-20.0</td>\n",
       "      <td>NaN</td>\n",
       "      <td>(nan, nan)</td>\n",
       "    </tr>\n",
       "    <tr>\n",
       "      <th>4</th>\n",
       "      <td>2</td>\n",
       "      <td>False</td>\n",
       "      <td>20.0</td>\n",
       "      <td>NaN</td>\n",
       "      <td>(nan, nan)</td>\n",
       "    </tr>\n",
       "    <tr>\n",
       "      <th>5</th>\n",
       "      <td>2</td>\n",
       "      <td>True</td>\n",
       "      <td>20.0</td>\n",
       "      <td>NaN</td>\n",
       "      <td>(nan, nan)</td>\n",
       "    </tr>\n",
       "    <tr>\n",
       "      <th>6</th>\n",
       "      <td>3</td>\n",
       "      <td>False</td>\n",
       "      <td>0.0</td>\n",
       "      <td>NaN</td>\n",
       "      <td>(nan, nan)</td>\n",
       "    </tr>\n",
       "    <tr>\n",
       "      <th>7</th>\n",
       "      <td>3</td>\n",
       "      <td>True</td>\n",
       "      <td>20.0</td>\n",
       "      <td>NaN</td>\n",
       "      <td>(nan, nan)</td>\n",
       "    </tr>\n",
       "    <tr>\n",
       "      <th>8</th>\n",
       "      <td>4</td>\n",
       "      <td>False</td>\n",
       "      <td>0.0</td>\n",
       "      <td>NaN</td>\n",
       "      <td>(nan, nan)</td>\n",
       "    </tr>\n",
       "    <tr>\n",
       "      <th>9</th>\n",
       "      <td>4</td>\n",
       "      <td>True</td>\n",
       "      <td>0.0</td>\n",
       "      <td>NaN</td>\n",
       "      <td>(nan, nan)</td>\n",
       "    </tr>\n",
       "  </tbody>\n",
       "</table>\n",
       "</div>"
      ],
      "text/plain": [
       "   group  MAMLCon  Drop in Accuracy  Standard Deviation confidence interval\n",
       "0      0    False              40.0                 NaN          (nan, nan)\n",
       "1      0     True               0.0                 NaN          (nan, nan)\n",
       "2      1    False              20.0                 NaN          (nan, nan)\n",
       "3      1     True             -20.0                 NaN          (nan, nan)\n",
       "4      2    False              20.0                 NaN          (nan, nan)\n",
       "5      2     True              20.0                 NaN          (nan, nan)\n",
       "6      3    False               0.0                 NaN          (nan, nan)\n",
       "7      3     True              20.0                 NaN          (nan, nan)\n",
       "8      4    False               0.0                 NaN          (nan, nan)\n",
       "9      4     True               0.0                 NaN          (nan, nan)"
      ]
     },
     "execution_count": 80,
     "metadata": {},
     "output_type": "execute_result"
    }
   ],
   "source": [
    "# sort by grou and training group, then calculate the fisrt minus last of each group\n",
    "\n",
    "N = 10\n",
    "K = [5]\n",
    "\n",
    "data = all_data[(all_data['quick_adapt']==True)&(all_data['N']==N)&(all_data['K'].isin(K))]\n",
    "x1 = data.\\\n",
    "    sort_values(['group','training_group', 'MAMLCon']).\\\n",
    "    groupby(['group', 'MAMLCon', 'K']).apply(lambda x: (x.iloc[0]['accuracy'] - x.iloc[-1]['accuracy'])*100).\\\n",
    "    reset_index().rename(columns={0:'Percantage Difference in Accuracy'}).\\\n",
    "    groupby(['group', 'MAMLCon']).apply(lambda x: x['Percantage Difference in Accuracy'].mean()).reset_index().\\\n",
    "    rename(columns={0:'Drop in Accuracy'})\n",
    "\n",
    "\n",
    "x2 = data.\\\n",
    "    sort_values(['group','training_group', 'MAMLCon']).\\\n",
    "    groupby(['group', 'MAMLCon', 'K']).apply(lambda x: (x.iloc[0]['accuracy'] - x.iloc[-1]['accuracy'])*100).\\\n",
    "    reset_index().rename(columns={0:'Percantage Difference in Accuracy'}).\\\n",
    "    groupby(['group', 'MAMLCon']).apply(lambda x: x['Percantage Difference in Accuracy'].std()).reset_index().\\\n",
    "    rename(columns={0:'Standard Deviation'})\n",
    "\n",
    "import numpy as np\n",
    "from scipy.stats import norm\n",
    "\n",
    "r = pd.merge(x1, x2, on=['group', 'MAMLCon'])\n",
    "\n",
    "r['confidence interval'] = r.apply(lambda x: norm.interval(0.95, loc=x['Drop in Accuracy'], scale=x['Standard Deviation']), axis=1)\n",
    "r\n",
    "# plt.figure(figsize=(15,10))\n",
    "# # sns.(x='group', y='Percantage Difference in Accuracy', hue='MAMLCon', data=x)\n"
   ]
  },
  {
   "cell_type": "code",
   "execution_count": 62,
   "metadata": {},
   "outputs": [
    {
     "name": "stderr",
     "output_type": "stream",
     "text": [
      "/var/folders/20/tzn3lm1s1h9f4tshjwtkn9bc0000gn/T/ipykernel_1681/2754643548.py:83: MatplotlibDeprecationWarning: savefig() got unexpected keyword argument \"frameon\" which is no longer supported as of 3.3 and will become an error in 3.6\n",
      "  plt.savefig('group_accuracies.png', transparent=True, pad_inches=.2, frameon=False)\n"
     ]
    },
    {
     "data": {
      "image/png": "[encoded data removed]",
      "text/plain": [
       "<Figure size 1800x1440 with 4 Axes>"
      ]
     },
     "metadata": {
      "needs_background": "light"
     },
     "output_type": "display_data"
    }
   ],
   "source": [
    "# make four subplots, one for MAMLCon and one for MAML\n",
    "plt.figure(figsize=(25,20))\n",
    "\n",
    "# set seaborn colour sceheme\n",
    "sns.set_palette('colorblind')\n",
    "\n",
    "# sns.set_palette()\n",
    "\n",
    "ax1 = plt.subplot(221)\n",
    "ax3 = plt.subplot(222)\n",
    "ax2 = plt.subplot(223)\n",
    "ax4 = plt.subplot(224)\n",
    "\n",
    "\n",
    "plot_1_data = all_data[(all_data['MAMLCon']==True)&(all_data['quick_adapt']==True)&(all_data['N']==N)&(all_data['K']==K)]\n",
    "g1=sns.barplot(x='group', y='accuracy', hue='training_group', data=plot_1_data, ax=ax1)\n",
    "# put line plot on top of ax1 bar plot of average accuracy of each group\n",
    "sns.lineplot(x='group', y='accuracy', data=plot_1_data.groupby('group').mean(), ax=ax1, color='black', linewidth=3)\n",
    "\n",
    "plot_2_data = all_data[(all_data['MAMLCon']==False)&(all_data['quick_adapt']==True)&(all_data['N']==N)&(all_data['K']==K)]\n",
    "g2=sns.barplot(x='group', y='accuracy', hue='training_group', data=plot_2_data, ax=ax2)\n",
    "sns.lineplot(x='group', y='accuracy', data=plot_2_data.groupby('group').mean(), ax=ax2, color='black', linewidth=3, label='Average Accuracy')\n",
    "\n",
    "g1.legend_.remove()\n",
    "g2.legend_.remove()\n",
    "\n",
    "# set titles\n",
    "ax1.set_title('MAMLCon')\n",
    "ax2.set_title('Normal Model')\n",
    "\n",
    "# remove top and right spines\n",
    "ax1.spines['top'].set_visible(False)\n",
    "ax1.spines['right'].set_visible(False)\n",
    "ax2.spines['top'].set_visible(False)\n",
    "ax2.spines['right'].set_visible(False)\n",
    "\n",
    "\n",
    "plot_3_data = all_data[(all_data['MAMLCon']==True)&(all_data['quick_adapt']==False)&(all_data['N']==N)&(all_data['K']==K)]\n",
    "g3=sns.barplot(x='group', y='accuracy', hue='training_group', data=plot_3_data, ax=ax3)\n",
    "sns.lineplot(x='group', y='accuracy', data=plot_3_data.groupby('group').mean(), ax=ax3, color='black', linewidth=3)\n",
    "\n",
    "plot_4_data = all_data[(all_data['MAMLCon']==False)&(all_data['quick_adapt']==True)&(all_data['N']==N)&(all_data['K']==K)]\n",
    "g4=sns.barplot(x='group', y='accuracy', hue='training_group', data=plot_4_data, ax=ax4)\n",
    "sns.lineplot(x='group', y='accuracy', data=plot_4_data.groupby('group').mean(), ax=ax4, color='black', linewidth=3, label='Average Accuracy')\n",
    "\n",
    "g3.legend_.remove()\n",
    "g4.legend_.remove()\n",
    "\n",
    "# set titles\n",
    "ax3.set_title('MAMLCon - No quick update')\n",
    "ax4.set_title('Normal Model - No quick update')\n",
    "\n",
    "# set all x labels to be blank\n",
    "ax1.set_xlabel('Class Group')\n",
    "ax2.set_xlabel('Class Group')\n",
    "ax3.set_xlabel('Class Group')\n",
    "ax4.set_xlabel('Class Group')\n",
    "\n",
    "# set all x labels to be blank\n",
    "ax1.set_ylabel('Accuracy')\n",
    "ax2.set_ylabel('Accuracy')\n",
    "ax3.set_ylabel('Accuracy')\n",
    "ax4.set_ylabel('Accuracy')\n",
    "\n",
    "\n",
    "# remove top and right spines\n",
    "ax3.spines['top'].set_visible(False)\n",
    "ax3.spines['right'].set_visible(False)\n",
    "ax4.spines['top'].set_visible(False)\n",
    "ax4.spines['right'].set_visible(False)\n",
    "\n",
    "\n",
    "# make plot font size bigger\n",
    "\n",
    "# put legend outside of plot\n",
    "plt.legend(bbox_to_anchor=(1.05, 1), loc=2, borderaxespad=0., title='Total Groups Trained', prop={'size': 10})\n",
    "\n",
    "plt.rcParams.update({'font.size': 25})\n",
    "\n",
    "# sup title closer to plots\n",
    "plt.suptitle(\"Group Accuracies After Training Other Groups\", y=0.95)\n",
    "\n",
    "plt.savefig('group_accuracies.png', transparent=True, pad_inches=.2, frameon=False)\n",
    "plt.show()"
   ]
  },
  {
   "cell_type": "code",
   "execution_count": 27,
   "metadata": {},
   "outputs": [
    {
     "data": {
      "text/html": [
       "<div>\n",
       "<style scoped>\n",
       "    .dataframe tbody tr th:only-of-type {\n",
       "        vertical-align: middle;\n",
       "    }\n",
       "\n",
       "    .dataframe tbody tr th {\n",
       "        vertical-align: top;\n",
       "    }\n",
       "\n",
       "    .dataframe thead th {\n",
       "        text-align: right;\n",
       "    }\n",
       "</style>\n",
       "<table border=\"1\" class=\"dataframe\">\n",
       "  <thead>\n",
       "    <tr style=\"text-align: right;\">\n",
       "      <th></th>\n",
       "      <th>loss</th>\n",
       "      <th>accuracy</th>\n",
       "      <th>group</th>\n",
       "      <th>training_group</th>\n",
       "      <th>N</th>\n",
       "      <th>quick_adapt</th>\n",
       "      <th>MAMLCon</th>\n",
       "      <th>K</th>\n",
       "    </tr>\n",
       "  </thead>\n",
       "  <tbody>\n",
       "    <tr>\n",
       "      <th>0</th>\n",
       "      <td>0.250000</td>\n",
       "      <td>0.92</td>\n",
       "      <td>0</td>\n",
       "      <td>0</td>\n",
       "      <td>10</td>\n",
       "      <td>True</td>\n",
       "      <td>True</td>\n",
       "      <td>5</td>\n",
       "    </tr>\n",
       "    <tr>\n",
       "      <th>1</th>\n",
       "      <td>0.480802</td>\n",
       "      <td>0.90</td>\n",
       "      <td>0</td>\n",
       "      <td>1</td>\n",
       "      <td>10</td>\n",
       "      <td>True</td>\n",
       "      <td>True</td>\n",
       "      <td>5</td>\n",
       "    </tr>\n",
       "    <tr>\n",
       "      <th>2</th>\n",
       "      <td>0.424737</td>\n",
       "      <td>0.88</td>\n",
       "      <td>1</td>\n",
       "      <td>1</td>\n",
       "      <td>10</td>\n",
       "      <td>True</td>\n",
       "      <td>True</td>\n",
       "      <td>5</td>\n",
       "    </tr>\n",
       "    <tr>\n",
       "      <th>3</th>\n",
       "      <td>1.266662</td>\n",
       "      <td>0.64</td>\n",
       "      <td>0</td>\n",
       "      <td>2</td>\n",
       "      <td>10</td>\n",
       "      <td>True</td>\n",
       "      <td>True</td>\n",
       "      <td>5</td>\n",
       "    </tr>\n",
       "    <tr>\n",
       "      <th>4</th>\n",
       "      <td>1.210459</td>\n",
       "      <td>0.76</td>\n",
       "      <td>1</td>\n",
       "      <td>2</td>\n",
       "      <td>10</td>\n",
       "      <td>True</td>\n",
       "      <td>True</td>\n",
       "      <td>5</td>\n",
       "    </tr>\n",
       "    <tr>\n",
       "      <th>5</th>\n",
       "      <td>1.477305</td>\n",
       "      <td>0.58</td>\n",
       "      <td>2</td>\n",
       "      <td>2</td>\n",
       "      <td>10</td>\n",
       "      <td>True</td>\n",
       "      <td>True</td>\n",
       "      <td>5</td>\n",
       "    </tr>\n",
       "    <tr>\n",
       "      <th>6</th>\n",
       "      <td>0.433661</td>\n",
       "      <td>0.88</td>\n",
       "      <td>0</td>\n",
       "      <td>3</td>\n",
       "      <td>10</td>\n",
       "      <td>True</td>\n",
       "      <td>True</td>\n",
       "      <td>5</td>\n",
       "    </tr>\n",
       "    <tr>\n",
       "      <th>7</th>\n",
       "      <td>0.611428</td>\n",
       "      <td>0.84</td>\n",
       "      <td>1</td>\n",
       "      <td>3</td>\n",
       "      <td>10</td>\n",
       "      <td>True</td>\n",
       "      <td>True</td>\n",
       "      <td>5</td>\n",
       "    </tr>\n",
       "    <tr>\n",
       "      <th>8</th>\n",
       "      <td>1.566029</td>\n",
       "      <td>0.60</td>\n",
       "      <td>2</td>\n",
       "      <td>3</td>\n",
       "      <td>10</td>\n",
       "      <td>True</td>\n",
       "      <td>True</td>\n",
       "      <td>5</td>\n",
       "    </tr>\n",
       "    <tr>\n",
       "      <th>9</th>\n",
       "      <td>0.556644</td>\n",
       "      <td>0.84</td>\n",
       "      <td>3</td>\n",
       "      <td>3</td>\n",
       "      <td>10</td>\n",
       "      <td>True</td>\n",
       "      <td>True</td>\n",
       "      <td>5</td>\n",
       "    </tr>\n",
       "    <tr>\n",
       "      <th>10</th>\n",
       "      <td>0.458205</td>\n",
       "      <td>0.80</td>\n",
       "      <td>0</td>\n",
       "      <td>4</td>\n",
       "      <td>10</td>\n",
       "      <td>True</td>\n",
       "      <td>True</td>\n",
       "      <td>5</td>\n",
       "    </tr>\n",
       "    <tr>\n",
       "      <th>11</th>\n",
       "      <td>0.367248</td>\n",
       "      <td>0.88</td>\n",
       "      <td>1</td>\n",
       "      <td>4</td>\n",
       "      <td>10</td>\n",
       "      <td>True</td>\n",
       "      <td>True</td>\n",
       "      <td>5</td>\n",
       "    </tr>\n",
       "    <tr>\n",
       "      <th>12</th>\n",
       "      <td>1.527652</td>\n",
       "      <td>0.54</td>\n",
       "      <td>2</td>\n",
       "      <td>4</td>\n",
       "      <td>10</td>\n",
       "      <td>True</td>\n",
       "      <td>True</td>\n",
       "      <td>5</td>\n",
       "    </tr>\n",
       "    <tr>\n",
       "      <th>13</th>\n",
       "      <td>1.456852</td>\n",
       "      <td>0.62</td>\n",
       "      <td>3</td>\n",
       "      <td>4</td>\n",
       "      <td>10</td>\n",
       "      <td>True</td>\n",
       "      <td>True</td>\n",
       "      <td>5</td>\n",
       "    </tr>\n",
       "    <tr>\n",
       "      <th>14</th>\n",
       "      <td>0.352817</td>\n",
       "      <td>0.88</td>\n",
       "      <td>4</td>\n",
       "      <td>4</td>\n",
       "      <td>10</td>\n",
       "      <td>True</td>\n",
       "      <td>True</td>\n",
       "      <td>5</td>\n",
       "    </tr>\n",
       "    <tr>\n",
       "      <th>0</th>\n",
       "      <td>0.112913</td>\n",
       "      <td>1.00</td>\n",
       "      <td>0</td>\n",
       "      <td>0</td>\n",
       "      <td>10</td>\n",
       "      <td>True</td>\n",
       "      <td>True</td>\n",
       "      <td>5</td>\n",
       "    </tr>\n",
       "    <tr>\n",
       "      <th>1</th>\n",
       "      <td>0.273772</td>\n",
       "      <td>1.00</td>\n",
       "      <td>0</td>\n",
       "      <td>1</td>\n",
       "      <td>10</td>\n",
       "      <td>True</td>\n",
       "      <td>True</td>\n",
       "      <td>5</td>\n",
       "    </tr>\n",
       "    <tr>\n",
       "      <th>2</th>\n",
       "      <td>0.531585</td>\n",
       "      <td>0.80</td>\n",
       "      <td>1</td>\n",
       "      <td>1</td>\n",
       "      <td>10</td>\n",
       "      <td>True</td>\n",
       "      <td>True</td>\n",
       "      <td>5</td>\n",
       "    </tr>\n",
       "    <tr>\n",
       "      <th>3</th>\n",
       "      <td>0.512296</td>\n",
       "      <td>0.80</td>\n",
       "      <td>0</td>\n",
       "      <td>2</td>\n",
       "      <td>10</td>\n",
       "      <td>True</td>\n",
       "      <td>True</td>\n",
       "      <td>5</td>\n",
       "    </tr>\n",
       "    <tr>\n",
       "      <th>4</th>\n",
       "      <td>0.658449</td>\n",
       "      <td>0.80</td>\n",
       "      <td>1</td>\n",
       "      <td>2</td>\n",
       "      <td>10</td>\n",
       "      <td>True</td>\n",
       "      <td>True</td>\n",
       "      <td>5</td>\n",
       "    </tr>\n",
       "    <tr>\n",
       "      <th>5</th>\n",
       "      <td>0.665105</td>\n",
       "      <td>0.60</td>\n",
       "      <td>2</td>\n",
       "      <td>2</td>\n",
       "      <td>10</td>\n",
       "      <td>True</td>\n",
       "      <td>True</td>\n",
       "      <td>5</td>\n",
       "    </tr>\n",
       "    <tr>\n",
       "      <th>6</th>\n",
       "      <td>0.377130</td>\n",
       "      <td>0.80</td>\n",
       "      <td>0</td>\n",
       "      <td>3</td>\n",
       "      <td>10</td>\n",
       "      <td>True</td>\n",
       "      <td>True</td>\n",
       "      <td>5</td>\n",
       "    </tr>\n",
       "    <tr>\n",
       "      <th>7</th>\n",
       "      <td>0.379152</td>\n",
       "      <td>1.00</td>\n",
       "      <td>1</td>\n",
       "      <td>3</td>\n",
       "      <td>10</td>\n",
       "      <td>True</td>\n",
       "      <td>True</td>\n",
       "      <td>5</td>\n",
       "    </tr>\n",
       "    <tr>\n",
       "      <th>8</th>\n",
       "      <td>1.846447</td>\n",
       "      <td>0.40</td>\n",
       "      <td>2</td>\n",
       "      <td>3</td>\n",
       "      <td>10</td>\n",
       "      <td>True</td>\n",
       "      <td>True</td>\n",
       "      <td>5</td>\n",
       "    </tr>\n",
       "    <tr>\n",
       "      <th>9</th>\n",
       "      <td>0.360326</td>\n",
       "      <td>0.80</td>\n",
       "      <td>3</td>\n",
       "      <td>3</td>\n",
       "      <td>10</td>\n",
       "      <td>True</td>\n",
       "      <td>True</td>\n",
       "      <td>5</td>\n",
       "    </tr>\n",
       "    <tr>\n",
       "      <th>10</th>\n",
       "      <td>0.156871</td>\n",
       "      <td>1.00</td>\n",
       "      <td>0</td>\n",
       "      <td>4</td>\n",
       "      <td>10</td>\n",
       "      <td>True</td>\n",
       "      <td>True</td>\n",
       "      <td>5</td>\n",
       "    </tr>\n",
       "    <tr>\n",
       "      <th>11</th>\n",
       "      <td>0.323259</td>\n",
       "      <td>1.00</td>\n",
       "      <td>1</td>\n",
       "      <td>4</td>\n",
       "      <td>10</td>\n",
       "      <td>True</td>\n",
       "      <td>True</td>\n",
       "      <td>5</td>\n",
       "    </tr>\n",
       "    <tr>\n",
       "      <th>12</th>\n",
       "      <td>1.551822</td>\n",
       "      <td>0.40</td>\n",
       "      <td>2</td>\n",
       "      <td>4</td>\n",
       "      <td>10</td>\n",
       "      <td>True</td>\n",
       "      <td>True</td>\n",
       "      <td>5</td>\n",
       "    </tr>\n",
       "    <tr>\n",
       "      <th>13</th>\n",
       "      <td>1.157038</td>\n",
       "      <td>0.60</td>\n",
       "      <td>3</td>\n",
       "      <td>4</td>\n",
       "      <td>10</td>\n",
       "      <td>True</td>\n",
       "      <td>True</td>\n",
       "      <td>5</td>\n",
       "    </tr>\n",
       "    <tr>\n",
       "      <th>14</th>\n",
       "      <td>0.664336</td>\n",
       "      <td>0.60</td>\n",
       "      <td>4</td>\n",
       "      <td>4</td>\n",
       "      <td>10</td>\n",
       "      <td>True</td>\n",
       "      <td>True</td>\n",
       "      <td>5</td>\n",
       "    </tr>\n",
       "  </tbody>\n",
       "</table>\n",
       "</div>"
      ],
      "text/plain": [
       "        loss  accuracy  group  training_group   N  quick_adapt  MAMLCon  K\n",
       "0   0.250000      0.92      0               0  10         True     True  5\n",
       "1   0.480802      0.90      0               1  10         True     True  5\n",
       "2   0.424737      0.88      1               1  10         True     True  5\n",
       "3   1.266662      0.64      0               2  10         True     True  5\n",
       "4   1.210459      0.76      1               2  10         True     True  5\n",
       "5   1.477305      0.58      2               2  10         True     True  5\n",
       "6   0.433661      0.88      0               3  10         True     True  5\n",
       "7   0.611428      0.84      1               3  10         True     True  5\n",
       "8   1.566029      0.60      2               3  10         True     True  5\n",
       "9   0.556644      0.84      3               3  10         True     True  5\n",
       "10  0.458205      0.80      0               4  10         True     True  5\n",
       "11  0.367248      0.88      1               4  10         True     True  5\n",
       "12  1.527652      0.54      2               4  10         True     True  5\n",
       "13  1.456852      0.62      3               4  10         True     True  5\n",
       "14  0.352817      0.88      4               4  10         True     True  5\n",
       "0   0.112913      1.00      0               0  10         True     True  5\n",
       "1   0.273772      1.00      0               1  10         True     True  5\n",
       "2   0.531585      0.80      1               1  10         True     True  5\n",
       "3   0.512296      0.80      0               2  10         True     True  5\n",
       "4   0.658449      0.80      1               2  10         True     True  5\n",
       "5   0.665105      0.60      2               2  10         True     True  5\n",
       "6   0.377130      0.80      0               3  10         True     True  5\n",
       "7   0.379152      1.00      1               3  10         True     True  5\n",
       "8   1.846447      0.40      2               3  10         True     True  5\n",
       "9   0.360326      0.80      3               3  10         True     True  5\n",
       "10  0.156871      1.00      0               4  10         True     True  5\n",
       "11  0.323259      1.00      1               4  10         True     True  5\n",
       "12  1.551822      0.40      2               4  10         True     True  5\n",
       "13  1.157038      0.60      3               4  10         True     True  5\n",
       "14  0.664336      0.60      4               4  10         True     True  5"
      ]
     },
     "execution_count": 27,
     "metadata": {},
     "output_type": "execute_result"
    }
   ],
   "source": [
    "plot_1_data"
   ]
  },
  {
   "cell_type": "code",
   "execution_count": null,
   "metadata": {},
   "outputs": [],
   "source": [
    "plot_1_data = all_data[(all_data['MAMLCon']==True)&(all_data['quick_adapt']==True)&(all_data['N']==5)]\n",
    "\n",
    "plot_2_data = all_data[(all_data['MAMLCon']==False)&(all_data['quick_adapt']==True)&(all_data['N']==5)]\n",
    "\n",
    "plot_3_data = all_data[(all_data['MAMLCon']==True)&(all_data['quick_adapt']==False)&(all_data['N']==5)]\n",
    "\n",
    "plot_4_data = all_data[(all_data['MAMLCon']==False)&(all_data['quick_adapt']==True)&(all_data['N']==5)]\n"
   ]
  },
  {
   "cell_type": "code",
   "execution_count": null,
   "metadata": {},
   "outputs": [],
   "source": [
    "# sns.lineplot(x='group', y='accuracy', data=plot_1_data.groupby('group').mean(), ax=ax1, color='black', linewidth=3)\n",
    "plt.figure(figsize=(20,10))\n",
    "plt.plot(plot_1_data.groupby('group').mean().reset_index()['accuracy'], label='MAMLCon QA');\n",
    "plt.plot(plot_2_data.groupby('group').mean().reset_index()['accuracy'], label='Normal QA');\n",
    "plt.plot(plot_3_data.groupby('group').mean().reset_index()['accuracy'], label='MAMLCon');\n",
    "plt.plot(plot_4_data.groupby('group').mean().reset_index()['accuracy'], label='Normal');\n",
    "plt.legend()\n"
   ]
  },
  {
   "cell_type": "code",
   "execution_count": null,
   "metadata": {},
   "outputs": [],
   "source": [
    "all_data[(all_data['MAMLCon']==True)&(all_data['quick_adapt']==True)&(all_data['N']==5)]"
   ]
  },
  {
   "cell_type": "code",
   "execution_count": null,
   "metadata": {},
   "outputs": [],
   "source": [
    "all_data.N.unique()"
   ]
  },
  {
   "cell_type": "code",
   "execution_count": null,
   "metadata": {},
   "outputs": [],
   "source": []
  }
 ],
 "metadata": {
  "kernelspec": {
   "display_name": "flickr2",
   "language": "python",
   "name": "python3"
  },
  "language_info": {
   "codemirror_mode": {
    "name": "ipython",
    "version": 3
   },
   "file_extension": ".py",
   "mimetype": "text/x-python",
   "name": "python",
   "nbconvert_exporter": "python",
   "pygments_lexer": "ipython3",
   "version": "3.9.15"
  },
  "orig_nbformat": 4,
  "vscode": {
   "interpreter": {
    "hash": "3a43d7b48dfb8db078ab7642bd2e0d3611ffe6518b405d3c07c6468471a4b930"
   }
  }
 },
 "nbformat": 4,
 "nbformat_minor": 2
}
